{
 "cells": [
  {
   "cell_type": "code",
   "execution_count": 121,
   "metadata": {
    "collapsed": true
   },
   "outputs": [],
   "source": [
    "import numpy as np\n",
    "import pandas as pd\n",
    "import matplotlib.pyplot as plt\n",
    "\n",
    "from sklearn.metrics import roc_auc_score\n",
    "\n",
    "import math"
   ]
  },
  {
   "cell_type": "code",
   "execution_count": 122,
   "metadata": {
    "collapsed": false
   },
   "outputs": [],
   "source": [
    "e = 1e-5"
   ]
  },
  {
   "cell_type": "code",
   "execution_count": 210,
   "metadata": {
    "collapsed": false
   },
   "outputs": [
    {
     "data": {
      "text/html": [
       "<div>\n",
       "<table border=\"1\" class=\"dataframe\">\n",
       "  <thead>\n",
       "    <tr style=\"text-align: right;\">\n",
       "      <th></th>\n",
       "      <th>0</th>\n",
       "      <th>1</th>\n",
       "      <th>2</th>\n",
       "    </tr>\n",
       "  </thead>\n",
       "  <tbody>\n",
       "    <tr>\n",
       "      <th>0</th>\n",
       "      <td>-1</td>\n",
       "      <td>-0.663827</td>\n",
       "      <td>-0.138526</td>\n",
       "    </tr>\n",
       "    <tr>\n",
       "      <th>1</th>\n",
       "      <td>1</td>\n",
       "      <td>1.994596</td>\n",
       "      <td>2.468025</td>\n",
       "    </tr>\n",
       "    <tr>\n",
       "      <th>2</th>\n",
       "      <td>-1</td>\n",
       "      <td>-1.247395</td>\n",
       "      <td>0.749425</td>\n",
       "    </tr>\n",
       "    <tr>\n",
       "      <th>3</th>\n",
       "      <td>1</td>\n",
       "      <td>2.309374</td>\n",
       "      <td>1.899836</td>\n",
       "    </tr>\n",
       "    <tr>\n",
       "      <th>4</th>\n",
       "      <td>1</td>\n",
       "      <td>0.849143</td>\n",
       "      <td>2.407750</td>\n",
       "    </tr>\n",
       "  </tbody>\n",
       "</table>\n",
       "</div>"
      ],
      "text/plain": [
       "   0         1         2\n",
       "0 -1 -0.663827 -0.138526\n",
       "1  1  1.994596  2.468025\n",
       "2 -1 -1.247395  0.749425\n",
       "3  1  2.309374  1.899836\n",
       "4  1  0.849143  2.407750"
      ]
     },
     "execution_count": 210,
     "metadata": {},
     "output_type": "execute_result"
    }
   ],
   "source": [
    "data = pd.read_csv('data-logistic.csv', header=None)\n",
    "l = len(data.axes[0])\n",
    "data.head()"
   ]
  },
  {
   "cell_type": "code",
   "execution_count": 211,
   "metadata": {
    "collapsed": false
   },
   "outputs": [],
   "source": [
    "def min_functional(data, w, C = 0):\n",
    "    l = len(data.axes[0])\n",
    "    \n",
    "    sum = 0\n",
    "    for i in range(0, l):\n",
    "        y = data.ix[i][0]\n",
    "        x1 = data.ix[i][1]\n",
    "        x2 = data.ix[i][2]\n",
    "        sum += math.log(1 + math.exp(-y * (w[0] * x1 + w[1] * x2)))\n",
    "        \n",
    "    w_mod = w[0]*w[0] + w[1]*w[1]\n",
    "    sum += w_mod /2.0 *C\n",
    "    return sum\n",
    "    "
   ]
  },
  {
   "cell_type": "code",
   "execution_count": 232,
   "metadata": {
    "collapsed": true
   },
   "outputs": [],
   "source": [
    "def w_i_counting(j, data, w, k=0.1, C=0):\n",
    "    l = len(data.axes[0])\n",
    "    \n",
    "    res = 0.0;\n",
    "    for i in range(0, l):\n",
    "        y = data.ix[i][0]\n",
    "        x1 = data.ix[i][1]\n",
    "        x2 = data.ix[i][2]\n",
    "        x = (x1, x2)\n",
    "        \n",
    "        aa = w[0] * x1 + w[1] * x2\n",
    "        aa = aa * (-y)\n",
    "        res_iter = y * x[j] * (1 - 1.0 / (1 + math.exp( aa)))\n",
    "        res += res_iter\n",
    "    res = res * k / l\n",
    "    \n",
    "    res += w[j]\n",
    "    res -= k * C * w[j]\n",
    "    return res\n",
    "    "
   ]
  },
  {
   "cell_type": "code",
   "execution_count": 213,
   "metadata": {
    "collapsed": true
   },
   "outputs": [],
   "source": [
    "def sigmoida(w, x):\n",
    "    return 1.0 / (1 + math.exp( - w[0] * x[0] - w[1] * x[1] ))\n",
    "    "
   ]
  },
  {
   "cell_type": "code",
   "execution_count": 214,
   "metadata": {
    "collapsed": false
   },
   "outputs": [
    {
     "data": {
      "text/plain": [
       "(0.28781162047177639, 0.09198330215925439)"
      ]
     },
     "execution_count": 214,
     "metadata": {},
     "output_type": "execute_result"
    }
   ],
   "source": [
    "w = (0.0, 0.0)\n",
    "iter = 0\n",
    "exit = 1\n",
    "while iter < 1000 and exit == 1:\n",
    "    w1 = w_i_counting(0, data, w)\n",
    "    w2 = w_i_counting(1, data, w)\n",
    "    if math.sqrt((w1 - w[0])*(w1 - w[0]) + (w2 - w[1])*(w2 - w[1])) < e:\n",
    "        w = (w1, w2)\n",
    "        exit = 0\n",
    "    w = (w1, w2)\n",
    "    iter += 1\n",
    "    \n",
    "w"
   ]
  },
  {
   "cell_type": "code",
   "execution_count": 215,
   "metadata": {
    "collapsed": false
   },
   "outputs": [
    {
     "data": {
      "text/plain": [
       "244"
      ]
     },
     "execution_count": 215,
     "metadata": {},
     "output_type": "execute_result"
    }
   ],
   "source": [
    "iter"
   ]
  },
  {
   "cell_type": "code",
   "execution_count": 222,
   "metadata": {
    "collapsed": false
   },
   "outputs": [
    {
     "data": {
      "text/plain": [
       "0.92685714285714282"
      ]
     },
     "execution_count": 222,
     "metadata": {},
     "output_type": "execute_result"
    }
   ],
   "source": [
    "y_predicted = []\n",
    "for i in range(0, l):\n",
    "    y_predicted.append(sigmoida(w, np.asarray(data.ix[i, 1:3])))\n",
    "    \n",
    "answer1 = roc_auc_score(data.ix[:, 0], y_predicted)\n",
    "answer1"
   ]
  },
  {
   "cell_type": "code",
   "execution_count": 233,
   "metadata": {
    "collapsed": false
   },
   "outputs": [
    {
     "data": {
      "text/plain": [
       "(0.028558754546234223, 0.024780137249735559)"
      ]
     },
     "execution_count": 233,
     "metadata": {},
     "output_type": "execute_result"
    }
   ],
   "source": [
    "w = (0.0, 0.0)\n",
    "iter = 0\n",
    "exit = 1\n",
    "while iter < 1000 and exit == 1:\n",
    "    w1 = w_i_counting(0, data, w, C=10)\n",
    "    w2 = w_i_counting(1, data, w, C=10)\n",
    "    if math.sqrt((w1 - w[0])*(w1 - w[0]) + (w2 - w[1])*(w2 - w[1])) < e:\n",
    "        exit = 0\n",
    "    w = (w1, w2)\n",
    "    iter += 1\n",
    "    \n",
    "w"
   ]
  },
  {
   "cell_type": "code",
   "execution_count": 234,
   "metadata": {
    "collapsed": false
   },
   "outputs": [
    {
     "data": {
      "text/plain": [
       "8"
      ]
     },
     "execution_count": 234,
     "metadata": {},
     "output_type": "execute_result"
    }
   ],
   "source": [
    "iter"
   ]
  },
  {
   "cell_type": "code",
   "execution_count": 235,
   "metadata": {
    "collapsed": false
   },
   "outputs": [
    {
     "data": {
      "text/plain": [
       "0.93628571428571417"
      ]
     },
     "execution_count": 235,
     "metadata": {},
     "output_type": "execute_result"
    }
   ],
   "source": [
    "y_predicted = []\n",
    "for i in range(0, l):\n",
    "    y_predicted.append(sigmoida(w, np.asarray(data.ix[i, 1:3])))\n",
    "    \n",
    "answer2 = roc_auc_score(data.ix[:, 0], y_predicted)\n",
    "answer2"
   ]
  },
  {
   "cell_type": "code",
   "execution_count": 236,
   "metadata": {
    "collapsed": false
   },
   "outputs": [
    {
     "name": "stdout",
     "output_type": "stream",
     "text": [
      "0.927 0.936"
     ]
    }
   ],
   "source": [
    "f = open('answers/3', 'w')\n",
    "f.write('%.3f %.3f' % (answer1, answer2))\n",
    "f.close()\n",
    "\n",
    "!cat answers/3"
   ]
  },
  {
   "cell_type": "code",
   "execution_count": null,
   "metadata": {
    "collapsed": true
   },
   "outputs": [],
   "source": []
  }
 ],
 "metadata": {
  "kernelspec": {
   "display_name": "Python 2",
   "language": "python",
   "name": "python2"
  },
  "language_info": {
   "codemirror_mode": {
    "name": "ipython",
    "version": 2
   },
   "file_extension": ".py",
   "mimetype": "text/x-python",
   "name": "python",
   "nbconvert_exporter": "python",
   "pygments_lexer": "ipython2",
   "version": "2.7.10"
  }
 },
 "nbformat": 4,
 "nbformat_minor": 0
}
