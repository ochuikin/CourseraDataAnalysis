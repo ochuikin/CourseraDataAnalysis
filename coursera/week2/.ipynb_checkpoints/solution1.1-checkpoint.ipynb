{
 "cells": [
  {
   "cell_type": "code",
   "execution_count": 148,
   "metadata": {
    "collapsed": false
   },
   "outputs": [],
   "source": [
    "import pandas as pd\n",
    "import numpy as np\n",
    "from sklearn import cross_validation\n",
    "from sklearn.neighbors import KNeighborsClassifier\n",
    "\n",
    "table = pd.read_table('wine.data', sep=',', header=None)\n"
   ]
  },
  {
   "cell_type": "code",
   "execution_count": 149,
   "metadata": {
    "collapsed": false
   },
   "outputs": [
    {
     "data": {
      "text/plain": [
       "0    1\n",
       "1    1\n",
       "2    1\n",
       "3    1\n",
       "4    1\n",
       "Name: 0, dtype: int64"
      ]
     },
     "execution_count": 149,
     "metadata": {},
     "output_type": "execute_result"
    }
   ],
   "source": [
    "target = table.ix[:,0]\n",
    "\n",
    "target.head()"
   ]
  },
  {
   "cell_type": "code",
   "execution_count": 150,
   "metadata": {
    "collapsed": false
   },
   "outputs": [
    {
     "data": {
      "text/html": [
       "<div>\n",
       "<table border=\"1\" class=\"dataframe\">\n",
       "  <thead>\n",
       "    <tr style=\"text-align: right;\">\n",
       "      <th></th>\n",
       "      <th>1</th>\n",
       "      <th>2</th>\n",
       "      <th>3</th>\n",
       "      <th>4</th>\n",
       "      <th>5</th>\n",
       "      <th>6</th>\n",
       "      <th>7</th>\n",
       "      <th>8</th>\n",
       "      <th>9</th>\n",
       "      <th>10</th>\n",
       "      <th>11</th>\n",
       "      <th>12</th>\n",
       "      <th>13</th>\n",
       "    </tr>\n",
       "  </thead>\n",
       "  <tbody>\n",
       "    <tr>\n",
       "      <th>0</th>\n",
       "      <td>0.323522</td>\n",
       "      <td>-0.123784</td>\n",
       "      <td>0.033948</td>\n",
       "      <td>-0.200770</td>\n",
       "      <td>0.296287</td>\n",
       "      <td>0.174099</td>\n",
       "      <td>0.217454</td>\n",
       "      <td>-0.154441</td>\n",
       "      <td>0.220537</td>\n",
       "      <td>0.049651</td>\n",
       "      <td>0.067114</td>\n",
       "      <td>0.479236</td>\n",
       "      <td>0.226895</td>\n",
       "    </tr>\n",
       "    <tr>\n",
       "      <th>1</th>\n",
       "      <td>0.052469</td>\n",
       "      <td>-0.109950</td>\n",
       "      <td>-0.121132</td>\n",
       "      <td>-0.427574</td>\n",
       "      <td>0.002809</td>\n",
       "      <td>0.122375</td>\n",
       "      <td>0.154163</td>\n",
       "      <td>-0.192177</td>\n",
       "      <td>-0.098075</td>\n",
       "      <td>-0.057857</td>\n",
       "      <td>0.075244</td>\n",
       "      <td>0.288760</td>\n",
       "      <td>0.216196</td>\n",
       "    </tr>\n",
       "    <tr>\n",
       "      <th>2</th>\n",
       "      <td>0.041943</td>\n",
       "      <td>0.004674</td>\n",
       "      <td>0.162290</td>\n",
       "      <td>-0.046131</td>\n",
       "      <td>0.013679</td>\n",
       "      <td>0.174099</td>\n",
       "      <td>0.255428</td>\n",
       "      <td>-0.116706</td>\n",
       "      <td>0.384574</td>\n",
       "      <td>0.053064</td>\n",
       "      <td>0.058984</td>\n",
       "      <td>0.204511</td>\n",
       "      <td>0.312487</td>\n",
       "    </tr>\n",
       "    <tr>\n",
       "      <th>3</th>\n",
       "      <td>0.360364</td>\n",
       "      <td>-0.076353</td>\n",
       "      <td>0.071381</td>\n",
       "      <td>-0.138915</td>\n",
       "      <td>0.144113</td>\n",
       "      <td>0.536168</td>\n",
       "      <td>0.308171</td>\n",
       "      <td>-0.229913</td>\n",
       "      <td>0.185836</td>\n",
       "      <td>0.233951</td>\n",
       "      <td>-0.079227</td>\n",
       "      <td>0.307075</td>\n",
       "      <td>0.522901</td>\n",
       "    </tr>\n",
       "    <tr>\n",
       "      <th>4</th>\n",
       "      <td>0.062995</td>\n",
       "      <td>0.050129</td>\n",
       "      <td>0.269242</td>\n",
       "      <td>0.077580</td>\n",
       "      <td>0.198461</td>\n",
       "      <td>0.174099</td>\n",
       "      <td>0.139395</td>\n",
       "      <td>0.053106</td>\n",
       "      <td>0.072272</td>\n",
       "      <td>-0.062977</td>\n",
       "      <td>0.067114</td>\n",
       "      <td>0.116599</td>\n",
       "      <td>-0.008483</td>\n",
       "    </tr>\n",
       "  </tbody>\n",
       "</table>\n",
       "</div>"
      ],
      "text/plain": [
       "         1         2         3         4         5         6         7   \\\n",
       "0  0.323522 -0.123784  0.033948 -0.200770  0.296287  0.174099  0.217454   \n",
       "1  0.052469 -0.109950 -0.121132 -0.427574  0.002809  0.122375  0.154163   \n",
       "2  0.041943  0.004674  0.162290 -0.046131  0.013679  0.174099  0.255428   \n",
       "3  0.360364 -0.076353  0.071381 -0.138915  0.144113  0.536168  0.308171   \n",
       "4  0.062995  0.050129  0.269242  0.077580  0.198461  0.174099  0.139395   \n",
       "\n",
       "         8         9         10        11        12        13  \n",
       "0 -0.154441  0.220537  0.049651  0.067114  0.479236  0.226895  \n",
       "1 -0.192177 -0.098075 -0.057857  0.075244  0.288760  0.216196  \n",
       "2 -0.116706  0.384574  0.053064  0.058984  0.204511  0.312487  \n",
       "3 -0.229913  0.185836  0.233951 -0.079227  0.307075  0.522901  \n",
       "4  0.053106  0.072272 -0.062977  0.067114  0.116599 -0.008483  "
      ]
     },
     "execution_count": 150,
     "metadata": {},
     "output_type": "execute_result"
    }
   ],
   "source": [
    "df = table.ix[:, 1:]\n",
    "#data = (df - df.mean()) / (df.max() - df.min())\n",
    "data.head()"
   ]
  },
  {
   "cell_type": "code",
   "execution_count": 152,
   "metadata": {
    "collapsed": false
   },
   "outputs": [
    {
     "ename": "ValueError",
     "evalue": "Cannot have number of folds n_folds=5 greater than the number of samples: 1.",
     "output_type": "error",
     "traceback": [
      "\u001b[0;31m---------------------------------------------------------------------------\u001b[0m",
      "\u001b[0;31mValueError\u001b[0m                                Traceback (most recent call last)",
      "\u001b[0;32m<ipython-input-152-80ff73e47d07>\u001b[0m in \u001b[0;36m<module>\u001b[0;34m()\u001b[0m\n\u001b[1;32m      5\u001b[0m \u001b[0;32mfor\u001b[0m \u001b[0mk\u001b[0m \u001b[0;32min\u001b[0m \u001b[0mrange\u001b[0m\u001b[0;34m(\u001b[0m\u001b[0;36m1\u001b[0m\u001b[0;34m,\u001b[0m \u001b[0;36m50\u001b[0m\u001b[0;34m)\u001b[0m\u001b[0;34m:\u001b[0m\u001b[0;34m\u001b[0m\u001b[0m\n\u001b[1;32m      6\u001b[0m     \u001b[0mclassifier\u001b[0m \u001b[0;34m=\u001b[0m \u001b[0mKNeighborsClassifier\u001b[0m\u001b[0;34m(\u001b[0m\u001b[0mn_neighbors\u001b[0m\u001b[0;34m=\u001b[0m\u001b[0mk\u001b[0m\u001b[0;34m)\u001b[0m\u001b[0;34m\u001b[0m\u001b[0m\n\u001b[0;32m----> 7\u001b[0;31m     \u001b[0mkfold\u001b[0m \u001b[0;34m=\u001b[0m \u001b[0mcross_validation\u001b[0m\u001b[0;34m.\u001b[0m\u001b[0mKFold\u001b[0m\u001b[0;34m(\u001b[0m\u001b[0mk\u001b[0m\u001b[0;34m,\u001b[0m \u001b[0mn_folds\u001b[0m\u001b[0;34m=\u001b[0m\u001b[0;36m5\u001b[0m \u001b[0;34m,\u001b[0m \u001b[0mrandom_state\u001b[0m\u001b[0;34m=\u001b[0m\u001b[0;36m42\u001b[0m\u001b[0;34m)\u001b[0m\u001b[0;34m\u001b[0m\u001b[0m\n\u001b[0m\u001b[1;32m      8\u001b[0m \u001b[0;34m\u001b[0m\u001b[0m\n\u001b[1;32m      9\u001b[0m     \u001b[0mresult_iter\u001b[0m \u001b[0;34m=\u001b[0m \u001b[0mcross_validation\u001b[0m\u001b[0;34m.\u001b[0m\u001b[0mcross_val_score\u001b[0m\u001b[0;34m(\u001b[0m\u001b[0mclassifier\u001b[0m\u001b[0;34m,\u001b[0m \u001b[0mdata\u001b[0m\u001b[0;34m,\u001b[0m \u001b[0mtarget\u001b[0m\u001b[0;34m,\u001b[0m \u001b[0mcv\u001b[0m \u001b[0;34m=\u001b[0m \u001b[0mkfold\u001b[0m\u001b[0;34m)\u001b[0m\u001b[0;34m\u001b[0m\u001b[0m\n",
      "\u001b[0;32m/Library/Frameworks/Python.framework/Versions/2.7/lib/python2.7/site-packages/sklearn/cross_validation.pyc\u001b[0m in \u001b[0;36m__init__\u001b[0;34m(self, n, n_folds, shuffle, random_state)\u001b[0m\n\u001b[1;32m    312\u001b[0m     def __init__(self, n, n_folds=3, shuffle=False,\n\u001b[1;32m    313\u001b[0m                  random_state=None):\n\u001b[0;32m--> 314\u001b[0;31m         \u001b[0msuper\u001b[0m\u001b[0;34m(\u001b[0m\u001b[0mKFold\u001b[0m\u001b[0;34m,\u001b[0m \u001b[0mself\u001b[0m\u001b[0;34m)\u001b[0m\u001b[0;34m.\u001b[0m\u001b[0m__init__\u001b[0m\u001b[0;34m(\u001b[0m\u001b[0mn\u001b[0m\u001b[0;34m,\u001b[0m \u001b[0mn_folds\u001b[0m\u001b[0;34m,\u001b[0m \u001b[0mshuffle\u001b[0m\u001b[0;34m,\u001b[0m \u001b[0mrandom_state\u001b[0m\u001b[0;34m)\u001b[0m\u001b[0;34m\u001b[0m\u001b[0m\n\u001b[0m\u001b[1;32m    315\u001b[0m         \u001b[0mself\u001b[0m\u001b[0;34m.\u001b[0m\u001b[0midxs\u001b[0m \u001b[0;34m=\u001b[0m \u001b[0mnp\u001b[0m\u001b[0;34m.\u001b[0m\u001b[0marange\u001b[0m\u001b[0;34m(\u001b[0m\u001b[0mn\u001b[0m\u001b[0;34m)\u001b[0m\u001b[0;34m\u001b[0m\u001b[0m\n\u001b[1;32m    316\u001b[0m         \u001b[0;32mif\u001b[0m \u001b[0mshuffle\u001b[0m\u001b[0;34m:\u001b[0m\u001b[0;34m\u001b[0m\u001b[0m\n",
      "\u001b[0;32m/Library/Frameworks/Python.framework/Versions/2.7/lib/python2.7/site-packages/sklearn/cross_validation.pyc\u001b[0m in \u001b[0;36m__init__\u001b[0;34m(self, n, n_folds, shuffle, random_state)\u001b[0m\n\u001b[1;32m    243\u001b[0m             raise ValueError(\n\u001b[1;32m    244\u001b[0m                 (\"Cannot have number of folds n_folds={0} greater\"\n\u001b[0;32m--> 245\u001b[0;31m                  \" than the number of samples: {1}.\").format(n_folds, n))\n\u001b[0m\u001b[1;32m    246\u001b[0m \u001b[0;34m\u001b[0m\u001b[0m\n\u001b[1;32m    247\u001b[0m         \u001b[0;32mif\u001b[0m \u001b[0;32mnot\u001b[0m \u001b[0misinstance\u001b[0m\u001b[0;34m(\u001b[0m\u001b[0mshuffle\u001b[0m\u001b[0;34m,\u001b[0m \u001b[0mbool\u001b[0m\u001b[0;34m)\u001b[0m\u001b[0;34m:\u001b[0m\u001b[0;34m\u001b[0m\u001b[0m\n",
      "\u001b[0;31mValueError\u001b[0m: Cannot have number of folds n_folds=5 greater than the number of samples: 1."
     ]
    }
   ],
   "source": [
    "result = []\n",
    "maximum = 0\n",
    "k_res = 0\n",
    "for k in range(1, 50):\n",
    "    classifier = KNeighborsClassifier(n_neighbors=k)\n",
    "    kfold = cross_validation.KFold(5, n_folds=5 , random_state=42)\n",
    "\n",
    "    result_iter = cross_validation.cross_val_score(classifier, data, target, cv = kfold)\n",
    "    if result_iter.mean() > maximum:\n",
    "        maximum = result_iter.mean()\n",
    "        k_res = k\n",
    "    result.append([k, result_iter.mean()])\n",
    "    \n",
    "#np.max(result[:, 1:1], axes = 0)\n",
    "print result[k_res]\n",
    "\n",
    "f = open('answers/1.1.1', 'w')\n",
    "f.write('%d' % result[k_res][0])\n",
    "f.close()\n",
    "\n",
    "f = open('answers/1.1.2', 'w')\n",
    "f.write('%.2f' % result[k_res][1])\n",
    "f.close()\n"
   ]
  },
  {
   "cell_type": "code",
   "execution_count": null,
   "metadata": {
    "collapsed": true
   },
   "outputs": [],
   "source": []
  }
 ],
 "metadata": {
  "kernelspec": {
   "display_name": "Python 2",
   "language": "python",
   "name": "python2"
  },
  "language_info": {
   "codemirror_mode": {
    "name": "ipython",
    "version": 2
   },
   "file_extension": ".py",
   "mimetype": "text/x-python",
   "name": "python",
   "nbconvert_exporter": "python",
   "pygments_lexer": "ipython2",
   "version": "2.7.10"
  }
 },
 "nbformat": 4,
 "nbformat_minor": 0
}
