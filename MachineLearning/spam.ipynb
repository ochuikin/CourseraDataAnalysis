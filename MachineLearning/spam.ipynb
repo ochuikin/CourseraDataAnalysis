{
 "cells": [
  {
   "cell_type": "code",
   "execution_count": 169,
   "metadata": {
    "collapsed": false
   },
   "outputs": [
    {
     "name": "stdout",
     "output_type": "stream",
     "text": [
      "  % Total    % Received % Xferd  Average Speed   Time    Time     Time  Current\n",
      "                                 Dload  Upload   Total   Spent    Left  Speed\n",
      "100  198k  100  198k    0     0  25523      0  0:00:07  0:00:07 --:--:-- 45435\n",
      "Archive:  data.zip\n",
      "replace SMSSpamCollection? [y]es, [n]o, [A]ll, [N]one, [r]ename: ^C\n"
     ]
    }
   ],
   "source": [
    "!curl https://archive.ics.uci.edu/ml/machine-learning-databases/00228/smsspamcollection.zip > data.zip\n",
    "!unzip data.zip"
   ]
  },
  {
   "cell_type": "code",
   "execution_count": 177,
   "metadata": {
    "collapsed": true
   },
   "outputs": [],
   "source": [
    "import re\n",
    "from math import log"
   ]
  },
  {
   "cell_type": "code",
   "execution_count": 178,
   "metadata": {
    "collapsed": false
   },
   "outputs": [],
   "source": [
    "n_s = 0\n",
    "n_h = 0\n",
    "\n",
    "dict_h = dict()\n",
    "dict_s = dict()\n",
    "\n",
    "def fill_dict(dict_, words_):\n",
    "    for word in set(words_):\n",
    "        word = word.lower()\n",
    "        if word:\n",
    "            dict_[word] = dict_.get(word, 0) + 1\n",
    "\n",
    "file_ = open('SMSSpamCollection', 'r')\n",
    "for line in file_:\n",
    "    words = re.split('[\\W]+', line.split('\\t')[1])\n",
    "    if line[0] == \"h\":\n",
    "        fill_dict(dict_h, words)\n",
    "        n_h += 1\n",
    "    else:\n",
    "        fill_dict(dict_s, words)\n",
    "        n_s += 1\n",
    "    \n",
    "file_.close()"
   ]
  },
  {
   "cell_type": "code",
   "execution_count": 179,
   "metadata": {
    "collapsed": false
   },
   "outputs": [
    {
     "name": "stdout",
     "output_type": "stream",
     "text": [
      "n_h: 4827\n",
      "n_s: 747\n"
     ]
    }
   ],
   "source": [
    "print \"n_h:\", n_h\n",
    "print \"n_s:\", n_s"
   ]
  },
  {
   "cell_type": "code",
   "execution_count": 180,
   "metadata": {
    "collapsed": false
   },
   "outputs": [],
   "source": [
    "def P_word(word, dict_, n):\n",
    "    a_ = 1\n",
    "    b_ = 2\n",
    "    \n",
    "    result = (dict_.get(word, 0) + a_) / (float(n) + b_)\n",
    "    if result != 0:\n",
    "        return result\n",
    "    return 1\n",
    "\n",
    "def P(text, dict_, n):\n",
    "    result = 0\n",
    "    for word in re.split('[\\W]+', text):\n",
    "        word = word.lower()\n",
    "        if word:\n",
    "            result += log(P_word(word, dict_, n))\n",
    "    return result\n",
    "\n",
    "def a(text):\n",
    "    if P(text, dict_h, n_h) > P(text, dict_s, n_s):\n",
    "        return \"ham\"\n",
    "    else:\n",
    "        return \"spam\""
   ]
  },
  {
   "cell_type": "code",
   "execution_count": 181,
   "metadata": {
    "collapsed": false
   },
   "outputs": [
    {
     "name": "stdout",
     "output_type": "stream",
     "text": [
      "-100.387143395\n",
      "-101.648565453\n",
      "ham\n"
     ]
    }
   ],
   "source": [
    "text_ham = \"Go until jurong point, crazy.. Available only in bugis n great world la e buffet... Cine there got amore wat...\"\n",
    "print P(text_ham, dict_h, n_h)\n",
    "print P(text_ham, dict_s, n_s)\n",
    "print a(text_ham)"
   ]
  },
  {
   "cell_type": "code",
   "execution_count": 182,
   "metadata": {
    "collapsed": false
   },
   "outputs": [
    {
     "name": "stdout",
     "output_type": "stream",
     "text": [
      "-146.299996123\n",
      "-119.317071506\n",
      "spam\n"
     ]
    }
   ],
   "source": [
    "text_spam = \"FreeMsg Hey there darling it's been 3 week's now and no word back! I'd like some fun you up for it still? Tb ok! XxX std chgs to send, £1.50 to rcv\"\n",
    "print P(text_spam, dict_h, n_h)\n",
    "print P(text_spam, dict_s, n_s)\n",
    "print a(text_spam)"
   ]
  },
  {
   "cell_type": "code",
   "execution_count": 183,
   "metadata": {
    "collapsed": false
   },
   "outputs": [
    {
     "name": "stdout",
     "output_type": "stream",
     "text": [
      "Accuracy:\n",
      "0.78614998206\n"
     ]
    }
   ],
   "source": [
    "file_ = open('SMSSpamCollection', 'r')\n",
    "\n",
    "counter = 0\n",
    "right = 0\n",
    "for line in file_:\n",
    "    counter += 1\n",
    "    if a(line.split('\\t')[1]) == line.split('\\t')[0]:\n",
    "        right += 1\n",
    " \n",
    "print \"Accuracy:\"\n",
    "print right / float(counter)\n",
    "\n",
    "file_.close()"
   ]
  },
  {
   "cell_type": "code",
   "execution_count": null,
   "metadata": {
    "collapsed": true
   },
   "outputs": [],
   "source": []
  }
 ],
 "metadata": {
  "kernelspec": {
   "display_name": "Python 2",
   "language": "python",
   "name": "python2"
  },
  "language_info": {
   "codemirror_mode": {
    "name": "ipython",
    "version": 2
   },
   "file_extension": ".py",
   "mimetype": "text/x-python",
   "name": "python",
   "nbconvert_exporter": "python",
   "pygments_lexer": "ipython2",
   "version": "2.7.10"
  }
 },
 "nbformat": 4,
 "nbformat_minor": 0
}
