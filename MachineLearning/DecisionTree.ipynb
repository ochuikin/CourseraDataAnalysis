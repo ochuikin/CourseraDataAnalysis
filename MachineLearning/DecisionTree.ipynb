{
 "cells": [
  {
   "cell_type": "code",
   "execution_count": 247,
   "metadata": {
    "collapsed": true
   },
   "outputs": [],
   "source": [
    "from sklearn import datasets\n",
    "import sys\n",
    "import numpy as np"
   ]
  },
  {
   "cell_type": "code",
   "execution_count": 248,
   "metadata": {
    "collapsed": true
   },
   "outputs": [],
   "source": [
    "iris = datasets.load_iris()\n",
    "X = iris.data\n",
    "y = iris.target"
   ]
  },
  {
   "cell_type": "code",
   "execution_count": 249,
   "metadata": {
    "collapsed": false
   },
   "outputs": [
    {
     "name": "stdout",
     "output_type": "stream",
     "text": [
      "<type 'numpy.ndarray'> <type 'numpy.ndarray'>\n",
      "[[ 5.1  3.5  1.4  0.2]\n",
      " [ 4.9  3.   1.4  0.2]]\n",
      "[]\n"
     ]
    }
   ],
   "source": [
    "print type(X), type(y)\n",
    "print X[:2]\n",
    "print y[:0]"
   ]
  },
  {
   "cell_type": "code",
   "execution_count": 250,
   "metadata": {
    "collapsed": false
   },
   "outputs": [],
   "source": [
    "class Split(object):\n",
    "    def __init__(self, feature_id, threshold):\n",
    "        self.feature_id = feature_id\n",
    "        self.threshold = threshold\n",
    "        \n",
    "    def is_greater(self, example):\n",
    "        return example[self.feature_id] > self.threshold\n",
    "        \n",
    "    def get_split(self, X, y):\n",
    "        \n",
    "        X_left = []\n",
    "        y_left = []\n",
    "        X_right = []\n",
    "        y_right = []\n",
    "        \n",
    "        for i in xrange(len(X)):\n",
    "            if self.is_greater(X[i]):\n",
    "                X_right.append(X[i])\n",
    "                y_right.append(y[i])\n",
    "            else:\n",
    "                X_left.append(X[i])\n",
    "                y_left.append(y[i])\n",
    "        \n",
    "        return X_left, y_left, X_right, y_right\n",
    "\n",
    "class Node(object):\n",
    "    def __init__(self, feature_id, threshold):\n",
    "        self.feature_id = feature_id\n",
    "        self.threshold = threshold\n",
    "        self.isLeaf = False\n",
    "        self.resultTarget = None\n",
    "        self.left = None\n",
    "        self.right = None\n",
    "        \n",
    "    def toString(self, i):\n",
    "        res = \"\"\n",
    "        if self.isLeaf:\n",
    "            res = res + \" \" * i + \"Leaf. Result: \" + str(self.resultTarget) + \"\\n\"\n",
    "        else:\n",
    "            res = res + \" \" * i + \"Feature: \" + str(self.feature_id) + \"\\n\" + \" \" * i + \\\n",
    "                    \"Threshold: \" + str(self.threshold) + \"\\n\"\n",
    "            res = res + self.left.toString(i + 2)\n",
    "            res = res + self.right.toString(i + 2)\n",
    "        return res\n",
    "            \n",
    "    def predict(self, x):\n",
    "        if self.isLeaf:\n",
    "            return self.resultTarget\n",
    "        if x[self.feature_id] < self.threshold:\n",
    "            return self.left.predict(x)\n",
    "        else:\n",
    "            return self.right.predict(x)\n",
    "        \n",
    "class DecisionTreeClassifier(object):\n",
    "    \n",
    "    def __init__(self):\n",
    "        self.root = None\n",
    "    \n",
    "    def toString(self):\n",
    "        return self.root.toString(1)\n",
    "    \n",
    "    def fit(self, X, y):\n",
    "        self.root = self.make_node(X, y)\n",
    "        \n",
    "    def make_node(self, X, y):\n",
    "        if len(set(y)) == 1:\n",
    "            node = Node(None, None)\n",
    "            node.isLeaf = True\n",
    "            node.resultTarget = y[0]\n",
    "            return node\n",
    "        \n",
    "        best_g = sys.maxint\n",
    "        best_feature = -1\n",
    "        best_threshold = -1\n",
    "        X = np.array(X)\n",
    "        for i in xrange(len(X[0])):\n",
    "            tresholds = list(set(X[:, i]))\n",
    "            tresholds.sort()\n",
    "            for t_m in [(tresholds[j] + tresholds[j + 1])/2 for j in range(len(tresholds) - 1)]:\n",
    "                split = Split(i, t_m)\n",
    "                X_l, y_l, X_r, y_r = split.get_split(X, y)\n",
    "                g = self.G(X_l, y_l, X_r, y_r)\n",
    "                if g < best_g:\n",
    "                    best_g = g\n",
    "                    best_feature = i\n",
    "                    best_threshold = t_m\n",
    "                    \n",
    "        node = Node(best_feature, best_threshold)\n",
    "        \n",
    "        split = Split(best_feature, best_threshold)\n",
    "        X_l, y_l, X_r, y_r = split.get_split(X, y)\n",
    "        node.left = self.make_node(X_l, y_l)\n",
    "        node.right = self.make_node(X_r, y_r)\n",
    "        node.isLeaf = False\n",
    "        return node\n",
    "    \n",
    "                \n",
    "    def G(self, X_l, y_l, X_r, y_r):\n",
    "        self.N = len(X_l) + len(X_r)\n",
    "        return float(len(X_l)) / self.N * self.H(y_l) + float(len(X_r)) / self.N * self.H(y_r)\n",
    "        \n",
    "    def H(self, y):\n",
    "        res = 0\n",
    "        for k in set(y):\n",
    "            res = res + self.p_k(y, k) * (1 - self.p_k(y, k))\n",
    "        return res\n",
    "    \n",
    "    def p_k(self, y, k):\n",
    "        res = 0\n",
    "        for i in y:\n",
    "            if i == k:\n",
    "                res = res + 1\n",
    "        return float(res) / self.N\n",
    "        \n",
    "    def predict(self, x):\n",
    "        return self.root.predict(x)\n",
    "        "
   ]
  },
  {
   "cell_type": "code",
   "execution_count": 251,
   "metadata": {
    "collapsed": false
   },
   "outputs": [],
   "source": [
    "clf = DecisionTreeClassifier()\n",
    "clf.fit(X, y)"
   ]
  },
  {
   "cell_type": "code",
   "execution_count": 252,
   "metadata": {
    "collapsed": false
   },
   "outputs": [
    {
     "name": "stdout",
     "output_type": "stream",
     "text": [
      " Feature: 2\n",
      " Threshold: 4.35\n",
      "   Feature: 2\n",
      "   Threshold: 2.45\n",
      "     Leaf. Result: 0\n",
      "     Leaf. Result: 1\n",
      "   Feature: 3\n",
      "   Threshold: 1.65\n",
      "     Feature: 2\n",
      "     Threshold: 4.95\n",
      "       Leaf. Result: 1\n",
      "       Feature: 0\n",
      "       Threshold: 6.05\n",
      "         Feature: 1\n",
      "         Threshold: 2.45\n",
      "           Leaf. Result: 2\n",
      "           Leaf. Result: 1\n",
      "         Leaf. Result: 2\n",
      "     Feature: 3\n",
      "     Threshold: 1.75\n",
      "       Feature: 0\n",
      "       Threshold: 5.8\n",
      "         Leaf. Result: 2\n",
      "         Leaf. Result: 1\n",
      "       Feature: 2\n",
      "       Threshold: 4.85\n",
      "         Feature: 0\n",
      "         Threshold: 5.95\n",
      "           Leaf. Result: 1\n",
      "           Leaf. Result: 2\n",
      "         Leaf. Result: 2\n",
      "\n"
     ]
    }
   ],
   "source": [
    "print clf.toString()"
   ]
  },
  {
   "cell_type": "code",
   "execution_count": 253,
   "metadata": {
    "collapsed": false
   },
   "outputs": [
    {
     "name": "stdout",
     "output_type": "stream",
     "text": [
      "[ 5.1  3.5  1.4  0.2]\n",
      "True:  0\n",
      "Predict:  0\n"
     ]
    }
   ],
   "source": [
    "print X[0]\n",
    "print \"True: \", y[0]\n",
    "print \"Predict: \", clf.predict(X[0])"
   ]
  },
  {
   "cell_type": "code",
   "execution_count": 254,
   "metadata": {
    "collapsed": false
   },
   "outputs": [
    {
     "name": "stdout",
     "output_type": "stream",
     "text": [
      "[ 5.9  3.   5.1  1.8]\n",
      "True:  2\n",
      "Predict:  2\n"
     ]
    }
   ],
   "source": [
    "print X[-1]\n",
    "print \"True: \", y[-1]\n",
    "print \"Predict: \", clf.predict(X[-1])"
   ]
  },
  {
   "cell_type": "code",
   "execution_count": 255,
   "metadata": {
    "collapsed": false
   },
   "outputs": [
    {
     "name": "stdout",
     "output_type": "stream",
     "text": [
      "[ 7.   3.2  4.7  1.4]\n",
      "True:  1\n",
      "Predict:  1\n"
     ]
    }
   ],
   "source": [
    "print X[50]\n",
    "print \"True: \", y[50]\n",
    "print \"Predict: \", clf.predict(X[50])"
   ]
  },
  {
   "cell_type": "code",
   "execution_count": 256,
   "metadata": {
    "collapsed": false
   },
   "outputs": [],
   "source": [
    "X_test = []\n",
    "y_test = []\n",
    "X_fit = []\n",
    "y_fit = []\n",
    "\n",
    "for i in range(0, len(X), 2):\n",
    "    X_test.append(X[i])\n",
    "    y_test.append(y[i])\n",
    "\n",
    "for i in range(1, len(X), 2):\n",
    "    X_fit.append(X[i])\n",
    "    y_fit.append(y[i])"
   ]
  },
  {
   "cell_type": "code",
   "execution_count": 257,
   "metadata": {
    "collapsed": true
   },
   "outputs": [],
   "source": [
    "clf = DecisionTreeClassifier()\n",
    "clf.fit(X_fit, y_fit)"
   ]
  },
  {
   "cell_type": "code",
   "execution_count": 258,
   "metadata": {
    "collapsed": false
   },
   "outputs": [],
   "source": [
    "y_predict = [clf.predict(X_test[i]) for i in range(len(X_test))]"
   ]
  },
  {
   "cell_type": "code",
   "execution_count": 259,
   "metadata": {
    "collapsed": false
   },
   "outputs": [
    {
     "name": "stdout",
     "output_type": "stream",
     "text": [
      "Quality:  0.933333333333\n"
     ]
    }
   ],
   "source": [
    "quality = sum(np.array(y_predict) == np.array(y_test)) / float(len(y_test))\n",
    "\n",
    "print \"Quality: \", quality"
   ]
  },
  {
   "cell_type": "code",
   "execution_count": null,
   "metadata": {
    "collapsed": true
   },
   "outputs": [],
   "source": []
  }
 ],
 "metadata": {
  "kernelspec": {
   "display_name": "Python 2",
   "language": "python",
   "name": "python2"
  },
  "language_info": {
   "codemirror_mode": {
    "name": "ipython",
    "version": 2
   },
   "file_extension": ".py",
   "mimetype": "text/x-python",
   "name": "python",
   "nbconvert_exporter": "python",
   "pygments_lexer": "ipython2",
   "version": "2.7.10"
  }
 },
 "nbformat": 4,
 "nbformat_minor": 0
}
