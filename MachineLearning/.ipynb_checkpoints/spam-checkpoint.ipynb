{
 "cells": [
  {
   "cell_type": "code",
   "execution_count": 16,
   "metadata": {
    "collapsed": false
   },
   "outputs": [
    {
     "name": "stdout",
     "output_type": "stream",
     "text": [
      "  % Total    % Received % Xferd  Average Speed   Time    Time     Time  Current\n",
      "                                 Dload  Upload   Total   Spent    Left  Speed\n",
      "100  198k  100  198k    0     0  31445      0  0:00:06  0:00:06 --:--:-- 54403\n"
     ]
    }
   ],
   "source": [
    "!curl https://archive.ics.uci.edu/ml/machine-learning-databases/00228/smsspamcollection.zip > data.zip"
   ]
  },
  {
   "cell_type": "code",
   "execution_count": 17,
   "metadata": {
    "collapsed": false
   },
   "outputs": [
    {
     "name": "stdout",
     "output_type": "stream",
     "text": [
      "Archive:  data.zip\r\n",
      "  inflating: SMSSpamCollection       \r\n",
      "  inflating: readme                  \r\n"
     ]
    }
   ],
   "source": [
    "!unzip data.zip"
   ]
  },
  {
   "cell_type": "code",
   "execution_count": 18,
   "metadata": {
    "collapsed": false
   },
   "outputs": [
    {
     "name": "stdout",
     "output_type": "stream",
     "text": [
      "total 2080\r\n",
      "drwxr-xr-x  9 root  staff     306 Mar 25 10:55 \u001b[34m.ipynb_checkpoints\u001b[m\u001b[m\r\n",
      "-rw-r--r--  1 root  staff    8344 Mar  1 16:54 01_python_intro.ipynb\r\n",
      "-rw-r--r--  1 root  staff   12394 Mar 18 16:01 DecisionTree.ipynb\r\n",
      "-rw-r--r--  1 root  staff  477907 Mar 15  2011 SMSSpamCollection\r\n",
      "-rw-r--r--  1 root  staff   13494 Mar 11 12:07 SVM(11.03.16).ipynb\r\n",
      "-rw-r--r--  1 root  staff   10815 Mar  1 16:51 Scikit learn.ipynb\r\n",
      "-rw-r--r--  1 root  staff  178856 Mar 11 13:11 Scipy.optimaze.minimaze(11.03.16).ipynb\r\n",
      "-rw-r--r--  1 root  staff  203415 Mar 25 11:03 data.zip\r\n",
      "-rw-r--r--  1 root  staff  102000 Feb 26 11:32 german_credit_data\r\n",
      "-rw-r--r--  1 root  staff   28287 Mar 11 12:11 libs_basic.ipynb\r\n",
      "-rw-r--r--  1 root  staff    5868 Apr 18  2011 readme\r\n",
      "-rw-r--r--  1 root  staff    4094 Mar 25 11:01 spam.ipynb\r\n"
     ]
    }
   ],
   "source": [
    "!ls -l"
   ]
  },
  {
   "cell_type": "code",
   "execution_count": 123,
   "metadata": {
    "collapsed": true
   },
   "outputs": [],
   "source": [
    "import numpy as np\n",
    "import pandas as pd"
   ]
  },
  {
   "cell_type": "code",
   "execution_count": 124,
   "metadata": {
    "collapsed": false
   },
   "outputs": [],
   "source": [
    "import re\n",
    "\n",
    "n_s = 0\n",
    "n_h = 0\n",
    "\n",
    "dict_h = dict()\n",
    "dict_s = dict()\n",
    "\n",
    "def fill_dict(dict_, words_):\n",
    "    for word in set(words_):\n",
    "        word = word.lower()\n",
    "        if word:\n",
    "            dict_[word] = dict_.get(word, 0) + 1\n",
    "\n",
    "file_ = open('SMSSpamCollection', 'r')\n",
    "for line in file_:\n",
    "    words = re.split('[\\W]+', line.split('\\t')[1])\n",
    "    if line[0] == \"h\":\n",
    "        fill_dict(dict_h, words)\n",
    "        n_h += 1\n",
    "    else:\n",
    "        fill_dict(dict_s, words)\n",
    "        n_s += 1\n",
    "    \n",
    "file_.close()"
   ]
  },
  {
   "cell_type": "code",
   "execution_count": null,
   "metadata": {
    "collapsed": true
   },
   "outputs": [],
   "source": []
  },
  {
   "cell_type": "code",
   "execution_count": 125,
   "metadata": {
    "collapsed": false
   },
   "outputs": [
    {
     "name": "stdout",
     "output_type": "stream",
     "text": [
      "n_h: 4827\n",
      "n_s: 747\n"
     ]
    }
   ],
   "source": [
    "print \"n_h:\", n_h\n",
    "print \"n_s:\", n_s"
   ]
  },
  {
   "cell_type": "code",
   "execution_count": 154,
   "metadata": {
    "collapsed": false
   },
   "outputs": [],
   "source": [
    "from math import log\n",
    "\n",
    "a_ = 1\n",
    "b_ = 2\n",
    "\n",
    "def P_word(word, dict_, n):\n",
    "    result = (dict_.get(word, 0) + a_) / (float(n) + b_)\n",
    "    if result != 0:\n",
    "        return result\n",
    "    return 1\n",
    "\n",
    "def P(text, dict_, n):\n",
    "    result = 0\n",
    "    for word in re.split('[\\W]+', text):\n",
    "        word = word.lower()\n",
    "        if word:\n",
    "            result += log(P_word(word, dict_, n))\n",
    "    return result\n",
    "\n",
    "def a(text):\n",
    "    if P(text, dict_h, n_h) > P(text, dict_s, n_s):\n",
    "        return \"ham\"\n",
    "    else:\n",
    "        return \"spam\""
   ]
  },
  {
   "cell_type": "code",
   "execution_count": 155,
   "metadata": {
    "collapsed": false
   },
   "outputs": [],
   "source": [
    "text_ham = \"Go until jurong point, crazy.. Available only in bugis n great world la e buffet... Cine there got amore wat...\"\n",
    "text_spam = \"FreeMsg Hey there darling it's been 3 week's now and no word back! I'd like some fun you up for it still? Tb ok! XxX std chgs to send, £1.50 to rcv\""
   ]
  },
  {
   "cell_type": "code",
   "execution_count": 156,
   "metadata": {
    "collapsed": false
   },
   "outputs": [
    {
     "name": "stdout",
     "output_type": "stream",
     "text": [
      "-100.387143395\n",
      "-101.648565453\n",
      "ham\n"
     ]
    }
   ],
   "source": [
    "print P(text_ham, dict_h, n_h)\n",
    "print P(text_ham, dict_s, n_s)\n",
    "print a(text_ham)"
   ]
  },
  {
   "cell_type": "code",
   "execution_count": 157,
   "metadata": {
    "collapsed": false
   },
   "outputs": [
    {
     "name": "stdout",
     "output_type": "stream",
     "text": [
      "-146.299996123\n",
      "-119.317071506\n",
      "spam\n"
     ]
    }
   ],
   "source": [
    "print P(text_spam, dict_h, n_h)\n",
    "print P(text_spam, dict_s, n_s)\n",
    "print a(text_spam)"
   ]
  },
  {
   "cell_type": "code",
   "execution_count": 158,
   "metadata": {
    "collapsed": false
   },
   "outputs": [
    {
     "name": "stdout",
     "output_type": "stream",
     "text": [
      "0.78614998206\n"
     ]
    }
   ],
   "source": [
    "file_ = open('SMSSpamCollection', 'r')\n",
    "\n",
    "counter = 0\n",
    "right = 0\n",
    "for line in file_:\n",
    "    counter += 1\n",
    "    if a(line.split('\\t')[1]) == line.split('\\t')[0]:\n",
    "        right += 1\n",
    "        \n",
    "print right / float(counter)\n",
    "\n",
    "file_.close()"
   ]
  },
  {
   "cell_type": "code",
   "execution_count": null,
   "metadata": {
    "collapsed": true
   },
   "outputs": [],
   "source": []
  },
  {
   "cell_type": "code",
   "execution_count": null,
   "metadata": {
    "collapsed": true
   },
   "outputs": [],
   "source": []
  }
 ],
 "metadata": {
  "kernelspec": {
   "display_name": "Python 2",
   "language": "python",
   "name": "python2"
  },
  "language_info": {
   "codemirror_mode": {
    "name": "ipython",
    "version": 2
   },
   "file_extension": ".py",
   "mimetype": "text/x-python",
   "name": "python",
   "nbconvert_exporter": "python",
   "pygments_lexer": "ipython2",
   "version": "2.7.10"
  }
 },
 "nbformat": 4,
 "nbformat_minor": 0
}
