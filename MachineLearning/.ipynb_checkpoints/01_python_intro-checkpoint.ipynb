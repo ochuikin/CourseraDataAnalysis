{
 "cells": [
  {
   "cell_type": "markdown",
   "metadata": {},
   "source": [
    "## Hello, World"
   ]
  },
  {
   "cell_type": "markdown",
   "metadata": {},
   "source": [
    "### Digits"
   ]
  },
  {
   "cell_type": "code",
   "execution_count": 2,
   "metadata": {
    "collapsed": false
   },
   "outputs": [
    {
     "name": "stdout",
     "output_type": "stream",
     "text": [
      "Hello, world!\n"
     ]
    }
   ],
   "source": [
    "print \"Hello, world!\""
   ]
  },
  {
   "cell_type": "markdown",
   "metadata": {},
   "source": [
    "## Data types"
   ]
  },
  {
   "cell_type": "code",
   "execution_count": 6,
   "metadata": {
    "collapsed": false
   },
   "outputs": [
    {
     "name": "stdout",
     "output_type": "stream",
     "text": [
      "5 <type 'int'>\n"
     ]
    }
   ],
   "source": [
    "x = 5\n",
    "print x, type(x)"
   ]
  },
  {
   "cell_type": "markdown",
   "metadata": {},
   "source": [
    "PEP8 - code rules"
   ]
  },
  {
   "cell_type": "code",
   "execution_count": 2,
   "metadata": {
    "collapsed": false
   },
   "outputs": [
    {
     "data": {
      "text/plain": [
       "-2"
      ]
     },
     "execution_count": 2,
     "metadata": {},
     "output_type": "execute_result"
    }
   ],
   "source": [
    "#from __future__ import division\n",
    "\n",
    "-5 / 3"
   ]
  },
  {
   "cell_type": "code",
   "execution_count": 10,
   "metadata": {
    "collapsed": false
   },
   "outputs": [
    {
     "name": "stdout",
     "output_type": "stream",
     "text": [
      "5.6 <type 'float'>\n"
     ]
    }
   ],
   "source": [
    "x = 5.6\n",
    "print x, type(x)"
   ]
  },
  {
   "cell_type": "markdown",
   "metadata": {},
   "source": [
    "### Arrays"
   ]
  },
  {
   "cell_type": "code",
   "execution_count": 12,
   "metadata": {
    "collapsed": false
   },
   "outputs": [
    {
     "name": "stdout",
     "output_type": "stream",
     "text": [
      "[1, 2, 3, 4] <type 'list'>\n"
     ]
    }
   ],
   "source": [
    "x = [1, 2, 3, 4]\n",
    "print x, type(x)"
   ]
  },
  {
   "cell_type": "code",
   "execution_count": 13,
   "metadata": {
    "collapsed": false
   },
   "outputs": [
    {
     "name": "stdout",
     "output_type": "stream",
     "text": [
      "(5, 6, 'Hi') <type 'tuple'>\n"
     ]
    }
   ],
   "source": [
    "x = (5, 6, \"Hi\")\n",
    "print x, type(x)"
   ]
  },
  {
   "cell_type": "code",
   "execution_count": 14,
   "metadata": {
    "collapsed": false
   },
   "outputs": [
    {
     "name": "stdout",
     "output_type": "stream",
     "text": [
      "{'123': 3.2, (3, 4): '123'}\n"
     ]
    }
   ],
   "source": [
    "s = {'123':3.2, (3,4):\"123\"}\n",
    "print s"
   ]
  },
  {
   "cell_type": "code",
   "execution_count": 15,
   "metadata": {
    "collapsed": false
   },
   "outputs": [
    {
     "name": "stdout",
     "output_type": "stream",
     "text": [
      "{'123': 3.2, (3, 4): '123'} <type 'dict'>\n"
     ]
    }
   ],
   "source": [
    "s = \"{'123': 3.2, (3, 4): '123'}\"\n",
    "y = eval(s)\n",
    "print y, type(y)"
   ]
  },
  {
   "cell_type": "markdown",
   "metadata": {
    "collapsed": true
   },
   "source": [
    "## 26.02.16"
   ]
  },
  {
   "cell_type": "markdown",
   "metadata": {},
   "source": [
    "### qsort"
   ]
  },
  {
   "cell_type": "code",
   "execution_count": 20,
   "metadata": {
    "collapsed": true
   },
   "outputs": [],
   "source": [
    "list_ = [1, 3, 5, 4, 7, 6, 2, 0]\n"
   ]
  },
  {
   "cell_type": "code",
   "execution_count": 40,
   "metadata": {
    "collapsed": false
   },
   "outputs": [],
   "source": [
    "def qsort(list_):\n",
    "    if len(list_) <= 1:\n",
    "        return list_\n",
    "    pivot = list_[0]\n",
    "    left = []\n",
    "    right = []\n",
    "    for i in list_[1:]:\n",
    "        if i < pivot:\n",
    "            left.append(i)\n",
    "        else:\n",
    "            right.append(i)\n",
    "    left = qsort(left)\n",
    "    rigth = qsort(right)\n",
    "    result = left + [pivot] + right\n",
    "    return result"
   ]
  },
  {
   "cell_type": "code",
   "execution_count": 41,
   "metadata": {
    "collapsed": false
   },
   "outputs": [
    {
     "data": {
      "text/plain": [
       "[0, 1, 3, 5, 4, 7, 6, 2]"
      ]
     },
     "execution_count": 41,
     "metadata": {},
     "output_type": "execute_result"
    }
   ],
   "source": [
    "qsort(list_)"
   ]
  },
  {
   "cell_type": "code",
   "execution_count": 60,
   "metadata": {
    "collapsed": false
   },
   "outputs": [],
   "source": [
    "def qsort1r(list_):\n",
    "    return list_ if len(list_) <= 1 else \\\n",
    "        qsort1r([i for i in list_[1:] if i < list_[0]]) + [list_[0]] + \\\n",
    "        qsort1r([i for i in list_[1:] if i >= list_[0]])"
   ]
  },
  {
   "cell_type": "code",
   "execution_count": 61,
   "metadata": {
    "collapsed": false
   },
   "outputs": [
    {
     "data": {
      "text/plain": [
       "[0, 1, 2, 3, 4, 5, 6, 7]"
      ]
     },
     "execution_count": 61,
     "metadata": {},
     "output_type": "execute_result"
    }
   ],
   "source": [
    "qsort1r(list_)"
   ]
  },
  {
   "cell_type": "code",
   "execution_count": 63,
   "metadata": {
    "collapsed": true
   },
   "outputs": [],
   "source": [
    "text = \"das dfdf dd  uyuyu azfdsf qwe zxvcxzv dsf dd dsf dd das dd das das dfdf dd  uyuyu azfdsf qwe dsf dd dsf dd das dd das\""
   ]
  },
  {
   "cell_type": "code",
   "execution_count": 95,
   "metadata": {
    "collapsed": false
   },
   "outputs": [],
   "source": [
    "def text_gist(text):\n",
    "    d = {}\n",
    "    for i in text.split():\n",
    "        d[i] = 1 if not i in d else d[i] + 1\n",
    "    return d"
   ]
  },
  {
   "cell_type": "code",
   "execution_count": 96,
   "metadata": {
    "collapsed": false
   },
   "outputs": [
    {
     "data": {
      "text/plain": [
       "{'azfdsf': 1,\n",
       " 'das': 3,\n",
       " 'dd': 4,\n",
       " 'dfdf': 1,\n",
       " 'dsf': 2,\n",
       " 'qwe': 1,\n",
       " 'uyuyu': 1,\n",
       " 'zxvcxzv': 1}"
      ]
     },
     "execution_count": 96,
     "metadata": {},
     "output_type": "execute_result"
    }
   ],
   "source": [
    "text_gist(text)"
   ]
  },
  {
   "cell_type": "code",
   "execution_count": 97,
   "metadata": {
    "collapsed": true
   },
   "outputs": [],
   "source": [
    "def text_gist2(text):\n",
    "    return {}"
   ]
  },
  {
   "cell_type": "code",
   "execution_count": 176,
   "metadata": {
    "collapsed": false
   },
   "outputs": [],
   "source": [
    "class FreqDict(dict):\n",
    "    def __init__(self, text):\n",
    "        self.d = self.convert_to_gist(text)\n",
    "        for key in self.d:\n",
    "            self[key] = self.d[key]\n",
    "    \n",
    "    def __getattr__(self, attr):\n",
    "         return self.d[attr]\n",
    "        \n",
    "    def __getitem__(self, key):\n",
    "        return self.d[key]\n",
    "        \n",
    "    def convert_to_gist(self, text):\n",
    "        d = {}\n",
    "        for i in text.split():\n",
    "            d[i] = 1 if not i in d else d[i] + 1\n",
    "        return d\n",
    "    "
   ]
  },
  {
   "cell_type": "code",
   "execution_count": 177,
   "metadata": {
    "collapsed": false
   },
   "outputs": [
    {
     "data": {
      "text/plain": [
       "{'azfdsf': 1,\n",
       " 'das': 3,\n",
       " 'dd': 4,\n",
       " 'dfdf': 1,\n",
       " 'dsf': 2,\n",
       " 'qwe': 1,\n",
       " 'uyuyu': 1,\n",
       " 'zxvcxzv': 1}"
      ]
     },
     "execution_count": 177,
     "metadata": {},
     "output_type": "execute_result"
    }
   ],
   "source": [
    "md = FreqDict(text)\n",
    "dict(md)"
   ]
  },
  {
   "cell_type": "code",
   "execution_count": null,
   "metadata": {
    "collapsed": true
   },
   "outputs": [],
   "source": [
    "xead.wl@gmail.com"
   ]
  }
 ],
 "metadata": {
  "kernelspec": {
   "display_name": "Python 2",
   "language": "python",
   "name": "python2"
  },
  "language_info": {
   "codemirror_mode": {
    "name": "ipython",
    "version": 2
   },
   "file_extension": ".py",
   "mimetype": "text/x-python",
   "name": "python",
   "nbconvert_exporter": "python",
   "pygments_lexer": "ipython2",
   "version": "2.7.10"
  }
 },
 "nbformat": 4,
 "nbformat_minor": 0
}
