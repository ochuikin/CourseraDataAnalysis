{
 "cells": [
  {
   "cell_type": "code",
   "execution_count": 2,
   "metadata": {
    "collapsed": false
   },
   "outputs": [
    {
     "name": "stdout",
     "output_type": "stream",
     "text": [
      "   1   6   4  12   5   5   3   4   1  67   3   2   1   2   1   0   0   1   0   0   1   0   0   1   1 \n",
      "   2  48   2  60   1   3   2   2   1  22   3   1   1   1   1   0   0   1   0   0   1   0   0   1   2 \n",
      "   4  12   4  21   1   4   3   3   1  49   3   1   2   1   1   0   0   1   0   0   1   0   1   0   1 \n",
      "   1  42   2  79   1   4   3   4   2  45   3   1   2   1   1   0   0   0   0   0   0   0   0   1   1 \n",
      "   1  24   3  49   1   3   3   4   4  53   3   2   2   1   1   1   0   1   0   0   0   0   0   1   2 \n",
      "   4  36   2  91   5   3   3   4   4  35   3   1   2   2   1   0   0   1   0   0   0   0   1   0   1 \n",
      "   4  24   2  28   3   5   3   4   2  53   3   1   1   1   1   0   0   1   0   0   1   0   0   1   1 \n",
      "   2  36   2  69   1   3   3   2   3  35   3   1   1   2   1   0   1   1   0   1   0   0   0   0   1 \n",
      "   4  12   2  31   4   4   1   4   1  61   3   1   1   1   1   0   0   1   0   0   1   0   1   0   1 \n",
      "   2  30   4  52   1   1   4   2   3  28   3   2   1   1   1   1   0   1   0   0   1   0   0   0   2 \n",
      "cat: stdout: Broken pipe\n",
      "curl: (6) Could not resolve host: ..\n"
     ]
    }
   ],
   "source": [
    "!cat german_credit_data | head -n 10\n",
    "!curl ..."
   ]
  },
  {
   "cell_type": "code",
   "execution_count": 37,
   "metadata": {
    "collapsed": true
   },
   "outputs": [],
   "source": [
    "import pandas as pd"
   ]
  },
  {
   "cell_type": "code",
   "execution_count": 42,
   "metadata": {
    "collapsed": false
   },
   "outputs": [],
   "source": [
    "data = pd.read_csv(\"german_credit_data\", header=None, sep=\"\\\\s+\")\n",
    "data = data.as_matrix()"
   ]
  },
  {
   "cell_type": "code",
   "execution_count": 51,
   "metadata": {
    "collapsed": false
   },
   "outputs": [],
   "source": [
    "X = data[:, :24]\n",
    "Y = data[:, 24]"
   ]
  },
  {
   "cell_type": "code",
   "execution_count": 71,
   "metadata": {
    "collapsed": false
   },
   "outputs": [
    {
     "name": "stdout",
     "output_type": "stream",
     "text": [
      "0.675\n"
     ]
    }
   ],
   "source": [
    "from sklearn.tree import DecisionTreeClassifier\n",
    "from sklearn.cross_validation import cross_val_score\n",
    "\n",
    "model = DecisionTreeClassifier()\n",
    "print cross_val_score(model, X, y, cv=5).mean()"
   ]
  },
  {
   "cell_type": "markdown",
   "metadata": {},
   "source": [
    "## Writing linear classificator"
   ]
  },
  {
   "cell_type": "code",
   "execution_count": 148,
   "metadata": {
    "collapsed": false
   },
   "outputs": [],
   "source": [
    "import numpy as np\n",
    "from math import log\n",
    "from math import exp\n",
    "\n",
    "from scipy.optimize import minimize\n",
    "\n",
    "class Logistic(object):\n",
    "    \n",
    "    def __init__(self, gamma=0.01, reg='l1'):\n",
    "        self.gamma = gamma\n",
    "        self.reg = reg\n",
    "        self.w = None\n",
    "        \n",
    "    def get_reg(self, weights):\n",
    "        if self.reg == 'l1':\n",
    "            return sum(abs(weights))\n",
    "        elif self.reg == 'l2':\n",
    "            return sum(weights ** 2)\n",
    "        \n",
    "    def get_confidence(self, x, w):\n",
    "        return np.dot(w[:-1], x) + w[-1] \n",
    "    \n",
    "    def predict_one(self, x):\n",
    "        return 1 if self.get_confidence(x, self.w) > 0 else -1\n",
    "    \n",
    "    def predict(self, X_test):\n",
    "        return np.array([self.predict_one(x) for x in X_test])\n",
    "    \n",
    "    def get_loss(self, margin):\n",
    "        #print margin\n",
    "        return np.log(1.0 + np.exp(-margin))\n",
    "    \n",
    "    def get_risk(self, X_train, y_train, w):\n",
    "        risk = 0\n",
    "        for x, y in zip(X_train, y_train):\n",
    "            margin = y * self.get_confidence(x, w)\n",
    "            loss = self.get_loss(margin)\n",
    "            risk += loss\n",
    "            \n",
    "        risk += self.gamma * self.get_reg(w[:-1])\n",
    "        return risk\n",
    "    \n",
    "    def get_min_func(self, X_train, y_train):\n",
    "        return lambda w: self.get_risk(X_train, y_train, w)\n",
    "    \n",
    "    def fit(self, X_train, y_train):\n",
    "        min_func = self.get_min_func(X_train, y_train)\n",
    "        dim = len(X_train[0]) + 1\n",
    "        min_obj = minimize(min_func, np.array([1.0] * dim))\n",
    "        #print min_obj\n",
    "        w = min_obj.x\n",
    "        self.w = w\n",
    "        print self.w\n",
    "        "
   ]
  },
  {
   "cell_type": "code",
   "execution_count": 149,
   "metadata": {
    "collapsed": false
   },
   "outputs": [
    {
     "name": "stdout",
     "output_type": "stream",
     "text": [
      "[ 1.  1.  1.  1.  1.  1.  1.  1.  1.  1.  1.  1.  1.  1.  1.  1.  1.  1.\n",
      "  1.  1.  1.  1.  1.  1.  1.]\n"
     ]
    }
   ],
   "source": [
    "log_model = Logistic()\n",
    "\n",
    "Y_norm = (Y - 1.5) * 2\n",
    "\n",
    "log_model.fit(X, Y_norm)"
   ]
  },
  {
   "cell_type": "code",
   "execution_count": 150,
   "metadata": {
    "collapsed": false
   },
   "outputs": [],
   "source": [
    "preds = log_model.predict(X)"
   ]
  },
  {
   "cell_type": "code",
   "execution_count": 151,
   "metadata": {
    "collapsed": false
   },
   "outputs": [
    {
     "name": "stdout",
     "output_type": "stream",
     "text": [
      "[False  True False False  True False False False False  True  True  True\n",
      " False  True False  True False False  True False False False False False\n",
      " False False False False False  True False False False False False  True\n",
      " False  True False False False False False False  True False False False\n",
      " False False False False False False  True False  True False False  True\n",
      " False False  True  True False False False False  True False False False\n",
      " False False  True False  True False False False  True False False False\n",
      " False False False  True False  True False False  True False False  True\n",
      " False False False False False False False False False  True  True False\n",
      " False False False False False  True False False  True False  True False\n",
      "  True False False False  True False False  True False  True False  True\n",
      " False False False False False  True False False False False False  True\n",
      " False False False False False False False False False False False  True\n",
      " False False False False False False False False False False  True False\n",
      " False  True  True False  True False  True  True False False False False\n",
      "  True  True  True False  True False  True False  True False  True  True\n",
      "  True False  True  True False  True False  True False False False  True\n",
      " False False False False False False False False  True  True False False\n",
      " False False False False False False False False False False  True  True\n",
      "  True False  True False False False False  True  True  True False False\n",
      "  True False  True False False False False False False  True False False\n",
      "  True False False False False  True False False False False False False\n",
      " False  True False False  True False False False False  True  True False\n",
      " False False  True False False False False False False False False False\n",
      " False  True False  True False False False  True False False False False\n",
      " False  True  True False  True False False  True  True False False False\n",
      " False  True False  True False False False False  True  True False False\n",
      " False False False False False False False  True  True  True  True  True\n",
      " False  True False False False False False False False False False False\n",
      " False  True False  True False  True False  True False  True False  True\n",
      " False False False False  True False False False  True False False False\n",
      " False False  True  True False False  True False False  True False False\n",
      " False False False False False False False False False False False False\n",
      " False False  True False False False  True False False  True False False\n",
      " False  True False False  True False  True False  True False False  True\n",
      " False False False False  True False False False False  True False  True\n",
      " False False False  True False False False  True False False False  True\n",
      "  True False  True False False  True False False False False  True False\n",
      " False  True False False False False False False False False  True False\n",
      " False False  True  True  True False  True  True False False False False\n",
      " False False False False False  True False False False False False  True\n",
      " False False False  True  True False False False  True False False  True\n",
      "  True  True False  True False False  True False False False False False\n",
      " False  True False False False  True  True False False False False False\n",
      "  True False False  True False False False  True False False  True False\n",
      "  True False  True  True False  True False False  True False False False\n",
      "  True False False  True  True  True  True  True False  True False  True\n",
      " False False  True False False  True  True False False False False False\n",
      " False False  True False  True False False  True False  True False False\n",
      "  True  True False False False  True  True  True  True  True  True False\n",
      " False  True  True  True False False False  True False False  True  True\n",
      " False False  True False False False  True False False  True  True False\n",
      "  True False False  True False False False  True False  True  True False\n",
      " False False False  True  True False  True False False  True False  True\n",
      "  True  True False  True  True  True False False  True False False False\n",
      " False  True False False False False False False  True False False False\n",
      " False False  True False False  True False False False False False False\n",
      " False False False False False False False False False False False False\n",
      " False False False False  True  True False False False False  True  True\n",
      " False False False  True False False  True False False False False False\n",
      "  True  True  True False  True False False  True  True False False  True\n",
      " False False False False  True False False  True False False False False\n",
      " False False False  True False False False  True False False  True  True\n",
      " False  True False  True False  True False  True False False  True False\n",
      " False False False  True False False False  True False False False False\n",
      "  True False False  True False False False False  True  True  True False\n",
      " False False False False  True False False False False False False False\n",
      " False  True False False False  True False False  True  True  True False\n",
      " False False False  True False False  True False False False  True  True\n",
      "  True False False  True  True False  True  True False False False False\n",
      "  True False  True False False False  True False False  True  True False\n",
      " False  True False False False False  True False False  True  True False\n",
      "  True False False False False False False False False False False False\n",
      " False False  True False False False False False  True  True False  True\n",
      " False False False False False False False False False False False  True\n",
      "  True False False False False False False False False False False  True\n",
      " False False  True  True False  True  True  True False False  True False\n",
      "  True  True False  True False False False  True False False False  True\n",
      "  True False  True False False False False False False False  True False\n",
      "  True  True False  True  True  True False False False False  True False\n",
      " False False False  True False False  True False False False False False\n",
      "  True  True False False False False  True  True  True  True False  True\n",
      " False False False False False False False False False False False False\n",
      " False False  True False]\n"
     ]
    }
   ],
   "source": [
    "print preds != Y"
   ]
  },
  {
   "cell_type": "code",
   "execution_count": null,
   "metadata": {
    "collapsed": false
   },
   "outputs": [],
   "source": []
  },
  {
   "cell_type": "code",
   "execution_count": null,
   "metadata": {
    "collapsed": true
   },
   "outputs": [],
   "source": []
  }
 ],
 "metadata": {
  "kernelspec": {
   "display_name": "Python 2",
   "language": "python",
   "name": "python2"
  },
  "language_info": {
   "codemirror_mode": {
    "name": "ipython",
    "version": 2
   },
   "file_extension": ".py",
   "mimetype": "text/x-python",
   "name": "python",
   "nbconvert_exporter": "python",
   "pygments_lexer": "ipython2",
   "version": "2.7.10"
  }
 },
 "nbformat": 4,
 "nbformat_minor": 0
}
