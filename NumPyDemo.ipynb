{
 "cells": [
  {
   "cell_type": "markdown",
   "metadata": {},
   "source": [
    "\n",
    "# NumPy notes\n",
    "### Created by Babichev Oleg \n",
    "### using \"Python for Data Analysis\"(Wes McKinney)\n",
    "### 30.01.2016\n"
   ]
  },
  {
   "cell_type": "code",
   "execution_count": 1,
   "metadata": {
    "collapsed": false
   },
   "outputs": [
    {
     "data": {
      "text/plain": [
       "array([[1, 2, 3],\n",
       "       [4, 5, 6],\n",
       "       [7, 8, 9]])"
      ]
     },
     "execution_count": 1,
     "metadata": {},
     "output_type": "execute_result"
    }
   ],
   "source": [
    "\n",
    "import numpy as np\n",
    "\n",
    "\n",
    "data = [[1, 2, 3], \n",
    "        [4, 5, 6], \n",
    "        [7, 8, 9]]\n",
    "   \n",
    "arr = np.array(data)\n",
    "arr"
   ]
  },
  {
   "cell_type": "code",
   "execution_count": 2,
   "metadata": {
    "collapsed": false
   },
   "outputs": [
    {
     "name": "stdout",
     "output_type": "stream",
     "text": [
      "arr.ndim:  2\n",
      "arr.shape: (3, 3)\n",
      "arr.dtype: int64\n"
     ]
    }
   ],
   "source": [
    "print 'arr.ndim:  %s' % arr.ndim  #number of dimensions\n",
    "print 'arr.shape: %s' % (arr.shape,) #size of each dimensional\n",
    "print 'arr.dtype: %s' % arr.dtype #data type of array"
   ]
  },
  {
   "cell_type": "markdown",
   "metadata": {},
   "source": [
    "\n",
    "# Methods for creating ndarray\n"
   ]
  },
  {
   "cell_type": "code",
   "execution_count": 3,
   "metadata": {
    "collapsed": false
   },
   "outputs": [
    {
     "name": "stdout",
     "output_type": "stream",
     "text": [
      "np.ones()\n",
      "[[ 1.  1.  1.]\n",
      " [ 1.  1.  1.]\n",
      " [ 1.  1.  1.]]\n",
      "np.ones_like()\n",
      "[[1 1 1]\n",
      " [1 1 1]\n",
      " [1 1 1]]\n",
      "np.zeros()\n",
      "[[ 0.  0.  0.]\n",
      " [ 0.  0.  0.]\n",
      " [ 0.  0.  0.]]\n",
      "np.zeros_like()\n",
      "[[0 0 0]\n",
      " [0 0 0]\n",
      " [0 0 0]]\n",
      "np.empty()\n",
      "[[  0.00000000e+000   0.00000000e+000   2.14119659e-314]\n",
      " [  2.12357390e-314   2.12357391e-314   0.00000000e+000]\n",
      " [  1.06099790e-313   0.00000000e+000   0.00000000e+000]\n",
      " [  0.00000000e+000   9.88131292e-324   8.34402831e-309]]\n",
      "np.empty_like()\n",
      "[[0 0 0]\n",
      " [0 0 0]\n",
      " [0 0 0]]\n",
      "np.eye()\n",
      "[[ 1.  0.  0.]\n",
      " [ 0.  1.  0.]\n",
      " [ 0.  0.  1.]]\n",
      "np.identity()\n",
      "[[ 1.  0.  0.]\n",
      " [ 0.  1.  0.]\n",
      " [ 0.  0.  1.]]\n",
      "np.arange()\n",
      "[ 1  4  7 10 13 16 19]\n"
     ]
    }
   ],
   "source": [
    "#List of methods:\n",
    "#  ones, ones_like, zeros, zeros_like,\n",
    "#  empty, empty_like, eye, identity\n",
    "#  arange\n",
    "\n",
    "arr = np.ones((3, 3))    #produces an array of all 1's\n",
    "print 'np.ones()'\n",
    "print arr\n",
    "\n",
    "arr = np.ones_like(data) #takes another array and produces ones array with the same shape and dtype\n",
    "print 'np.ones_like()'\n",
    "print arr\n",
    "\n",
    "arr = np.zeros((3, 3))\n",
    "print 'np.zeros()'\n",
    "print arr\n",
    "\n",
    "arr = np.zeros_like(data)\n",
    "print 'np.zeros_like()'\n",
    "print arr\n",
    "\n",
    "arr = np.empty((4, 3)) #allocates new memory, but doesn't populate with any values like ones and zeros\n",
    "print 'np.empty()'      #it sometimes returns really trash^_^\n",
    "print arr\n",
    "\n",
    "arr = np.empty_like(data)\n",
    "print 'np.empty_like()'\n",
    "print arr\n",
    "\n",
    "arr = np.eye(3) #creates square NxN matrix with 1's on diagonale\n",
    "print 'np.eye()'\n",
    "print arr\n",
    "\n",
    "arr = np.identity(3) #looks like np.eye()\n",
    "print 'np.identity()'\n",
    "print arr\n",
    "\n",
    "arr = np.arange(1, 20, 3) #looks like standart range() function, but returns ndarray\n",
    "print 'np.arange()'\n",
    "print arr"
   ]
  },
  {
   "cell_type": "markdown",
   "metadata": {},
   "source": [
    "\n",
    "# Data Types for ndarrays\n"
   ]
  },
  {
   "cell_type": "code",
   "execution_count": 4,
   "metadata": {
    "collapsed": false
   },
   "outputs": [
    {
     "name": "stdout",
     "output_type": "stream",
     "text": [
      "arr3.dtype: int64\n",
      "arr4.dtype: float64\n",
      "arr5.dtype: int64\n"
     ]
    }
   ],
   "source": [
    "\n",
    "#List of types:\n",
    "#  int8, uint8, int16, uint16, int32, uint32, int64, uint64\n",
    "#  float16, float32, float64, float128\n",
    "#  complex64, complex128, complex256\n",
    "#  bool, object, string_, unicode\n",
    "\n",
    "#List of methods:\n",
    "#  ndarray.astype\n",
    "\n",
    "arr3 = np.array(data)\n",
    "print 'arr3.dtype: %s' % arr3.dtype\n",
    "\n",
    "arr4 = arr3.astype(np.float64)\n",
    "print 'arr4.dtype: %s' % arr4.dtype\n",
    "\n",
    "arr5 = arr4.astype(arr3.dtype) #you can use another array's dtype attribute\n",
    "print 'arr5.dtype: %s' % arr5.dtype"
   ]
  },
  {
   "cell_type": "markdown",
   "metadata": {},
   "source": [
    "\n",
    "# Operations between Arrays and Scalars\n"
   ]
  },
  {
   "cell_type": "code",
   "execution_count": 5,
   "metadata": {
    "collapsed": false
   },
   "outputs": [
    {
     "name": "stdout",
     "output_type": "stream",
     "text": [
      "array:\n",
      "[[ 1.  2.  3.]\n",
      " [ 4.  5.  6.]\n",
      " [ 7.  8.  9.]]\n",
      "+:\n",
      "[[  2.   4.   6.]\n",
      " [  8.  10.  12.]\n",
      " [ 14.  16.  18.]]\n",
      "*:\n",
      "[[  1.   4.   9.]\n",
      " [ 16.  25.  36.]\n",
      " [ 49.  64.  81.]]\n",
      "-:\n",
      "[[ 0.  0.  0.]\n",
      " [ 0.  0.  0.]\n",
      " [ 0.  0.  0.]]\n",
      "/:\n",
      "[[ 1.  1.  1.]\n",
      " [ 1.  1.  1.]\n",
      " [ 1.  1.  1.]]\n",
      "1 / array:\n",
      "[[ 1.          0.5         0.33333333]\n",
      " [ 0.25        0.2         0.16666667]\n",
      " [ 0.14285714  0.125       0.11111111]]\n",
      "array ** 0.5:\n",
      "[[ 1.          1.41421356  1.73205081]\n",
      " [ 2.          2.23606798  2.44948974]\n",
      " [ 2.64575131  2.82842712  3.        ]]\n"
     ]
    }
   ],
   "source": [
    "\n",
    "#Operations:\n",
    "#  +,-,*,/,**\n",
    "\n",
    "#operations between differently sized arrays is called 'broadcastion' and will be later ^_^\n",
    "\n",
    "arr6 = np.array(data, dtype=np.float)\n",
    "print 'array:'\n",
    "print arr6\n",
    "\n",
    "print '+:'\n",
    "print arr6 + arr6\n",
    "\n",
    "print '*:'\n",
    "print arr6 * arr6\n",
    "\n",
    "print '-:'\n",
    "print arr6 - arr6\n",
    "\n",
    "print '/:'\n",
    "print arr6 / arr6\n",
    "\n",
    "print '1 / array:'\n",
    "print 1 /  arr6\n",
    "\n",
    "print 'array ** 0.5:'\n",
    "print arr6 ** 0.5"
   ]
  },
  {
   "cell_type": "markdown",
   "metadata": {},
   "source": [
    "\n",
    "# Basic indexing and Slicing\n"
   ]
  },
  {
   "cell_type": "code",
   "execution_count": 6,
   "metadata": {
    "collapsed": false
   },
   "outputs": [
    {
     "name": "stdout",
     "output_type": "stream",
     "text": [
      "arr: [0 1 2 3 4 5 6 7 8 9]\n",
      "arr[5]: 5\n",
      "arr[5: 8]: [5 6 7]\n",
      "arr[5:8] = 20: [ 0  1  2  3  4 20 20 20  8  9]\n"
     ]
    }
   ],
   "source": [
    "arr = np.arange(10)\n",
    "print 'arr: %s' % arr\n",
    "\n",
    "print 'arr[5]: %s' % arr[5]\n",
    "\n",
    "print 'arr[5: 8]: %s' % (arr[5:8])\n",
    "\n",
    "arr[5:8] = 20\n",
    "print 'arr[5:8] = 20: %s' % arr\n"
   ]
  },
  {
   "cell_type": "code",
   "execution_count": 7,
   "metadata": {
    "collapsed": false
   },
   "outputs": [
    {
     "name": "stdout",
     "output_type": "stream",
     "text": [
      "arr: [0 1 2 3 4 5 6 7 8 9]\n",
      "arr[5:8]: [5 6 7]\n",
      "arr_slice[1] = 20: [ 5 20  7]\n",
      "arr: [ 0  1  2  3  4  5 20  7  8  9]\n"
     ]
    }
   ],
   "source": [
    "arr = np.arange(10)\n",
    "print 'arr: %s' % arr\n",
    "\n",
    "arr_slice = arr[5:8]\n",
    "print 'arr[5:8]: %s' % arr_slice\n",
    "\n",
    "arr_slice[1] = 20\n",
    "print 'arr_slice[1] = 20: %s' % arr_slice\n",
    "\n",
    "print 'arr: %s' % arr #slices is only views on original array"
   ]
  },
  {
   "cell_type": "code",
   "execution_count": 8,
   "metadata": {
    "collapsed": false
   },
   "outputs": [
    {
     "name": "stdout",
     "output_type": "stream",
     "text": [
      "arr:\n",
      " [[1 2 3]\n",
      " [4 5 6]\n",
      " [7 8 9]]\n",
      "arr[0][2]: 3\n",
      "arr[0, 2]: 3 - the same\n"
     ]
    }
   ],
   "source": [
    "arr = np.array(data)\n",
    "print 'arr:\\n %s' % arr\n",
    "\n",
    "print 'arr[0][2]: %s' % arr[0][2]\n",
    "\n",
    "print 'arr[0, 2]: %s - the same' % arr[0, 2]"
   ]
  },
  {
   "cell_type": "markdown",
   "metadata": {},
   "source": [
    "\n",
    "# Boolean indexing\n"
   ]
  },
  {
   "cell_type": "code",
   "execution_count": 9,
   "metadata": {
    "collapsed": false
   },
   "outputs": [
    {
     "name": "stdout",
     "output_type": "stream",
     "text": [
      "names:\n",
      " ['Bob' 'Job' 'Hop' 'Drop' 'Job']\n",
      "\n",
      "data:\n",
      " [[ 0.36811127 -0.6624817   0.7775226   0.81912561]\n",
      " [-1.17356079  0.51261799  0.2910156   0.46538876]\n",
      " [-1.1716545   0.38998703 -0.72347846 -1.2728268 ]\n",
      " [ 0.58059354 -0.09313494  0.09183236  0.10837813]\n",
      " [-0.0140569  -0.6503487  -0.93088648 -0.12761446]]\n",
      "\n",
      "names == 'Job': [False  True False False  True]\n",
      "\n",
      "data[names == 'Job']:\n"
     ]
    },
    {
     "data": {
      "text/plain": [
       "array([[-1.17356079,  0.51261799,  0.2910156 ,  0.46538876],\n",
       "       [-0.0140569 , -0.6503487 , -0.93088648, -0.12761446]])"
      ]
     },
     "execution_count": 9,
     "metadata": {},
     "output_type": "execute_result"
    }
   ],
   "source": [
    "\n",
    "from numpy.random import randn\n",
    "\n",
    "names = np.array(['Bob', 'Job', 'Hop', 'Drop', 'Job'])\n",
    "print 'names:\\n %s\\n' % names\n",
    "\n",
    "data = randn(5, 4)\n",
    "print 'data:\\n %s\\n' % data\n",
    "\n",
    "print \"names == 'Job': %s\\n\" % (names == 'Job',)\n",
    "\n",
    "#The boolean array must be of the same length as the axis it's indexing\n",
    "print \"data[names == 'Job']:\"\n",
    "data[names == 'Job']"
   ]
  },
  {
   "cell_type": "code",
   "execution_count": 10,
   "metadata": {
    "collapsed": false
   },
   "outputs": [
    {
     "name": "stdout",
     "output_type": "stream",
     "text": [
      "data[names == 'Job' | names == 'Drop']:\n"
     ]
    },
    {
     "data": {
      "text/plain": [
       "array([[-1.17356079,  0.51261799,  0.2910156 ,  0.46538876],\n",
       "       [ 0.58059354, -0.09313494,  0.09183236,  0.10837813],\n",
       "       [-0.0140569 , -0.6503487 , -0.93088648, -0.12761446]])"
      ]
     },
     "execution_count": 10,
     "metadata": {},
     "output_type": "execute_result"
    }
   ],
   "source": [
    "print \"data[names == 'Job' | names == 'Drop']:\"\n",
    "data[(names == 'Job') | (names == 'Drop')]"
   ]
  },
  {
   "cell_type": "code",
   "execution_count": 11,
   "metadata": {
    "collapsed": false
   },
   "outputs": [
    {
     "name": "stdout",
     "output_type": "stream",
     "text": [
      "data[data < 0] = 0\n"
     ]
    },
    {
     "data": {
      "text/plain": [
       "array([[ 0.36811127,  0.        ,  0.7775226 ,  0.81912561],\n",
       "       [ 0.        ,  0.51261799,  0.2910156 ,  0.46538876],\n",
       "       [ 0.        ,  0.38998703,  0.        ,  0.        ],\n",
       "       [ 0.58059354,  0.        ,  0.09183236,  0.10837813],\n",
       "       [ 0.        ,  0.        ,  0.        ,  0.        ]])"
      ]
     },
     "execution_count": 11,
     "metadata": {},
     "output_type": "execute_result"
    }
   ],
   "source": [
    "print 'data[data < 0] = 0'\n",
    "data[data < 0] = 0\n",
    "data"
   ]
  },
  {
   "cell_type": "markdown",
   "metadata": {},
   "source": [
    "\n",
    "# Fancy indexing\n"
   ]
  },
  {
   "cell_type": "code",
   "execution_count": 12,
   "metadata": {
    "collapsed": false
   },
   "outputs": [
    {
     "name": "stdout",
     "output_type": "stream",
     "text": [
      "arr:\n",
      " [[ 0.  0.  0.  0.]\n",
      " [ 1.  1.  1.  1.]\n",
      " [ 2.  2.  2.  2.]\n",
      " [ 3.  3.  3.  3.]\n",
      " [ 4.  4.  4.  4.]\n",
      " [ 5.  5.  5.  5.]\n",
      " [ 6.  6.  6.  6.]\n",
      " [ 7.  7.  7.  7.]]\n",
      "\n",
      "arr[[3, 7, 2, 4]]:\n",
      "[[ 3.  3.  3.  3.]\n",
      " [ 7.  7.  7.  7.]\n",
      " [ 2.  2.  2.  2.]\n",
      " [ 4.  4.  4.  4.]]\n"
     ]
    }
   ],
   "source": [
    "\n",
    "arr = np.empty((8, 4))\n",
    "\n",
    "for i in range(8):\n",
    "    arr[i] = i\n",
    "    \n",
    "print \"arr:\\n %s\\n\" % arr\n",
    "\n",
    "# To select out a subset of the rows in a particular order, \n",
    "# you ca simply pass a list or ndarray of integers specifying the desired order\n",
    "\n",
    "print 'arr[[3, 7, 2, 4]]:\\n%s' % arr[[3, 7, 2, 4]]"
   ]
  },
  {
   "cell_type": "code",
   "execution_count": 13,
   "metadata": {
    "collapsed": false
   },
   "outputs": [
    {
     "name": "stdout",
     "output_type": "stream",
     "text": [
      "arr2:\n",
      "[[ 0  1  2  3]\n",
      " [ 4  5  6  7]\n",
      " [ 8  9 10 11]\n",
      " [12 13 14 15]\n",
      " [16 17 18 19]\n",
      " [20 21 22 23]\n",
      " [24 25 26 27]\n",
      " [28 29 30 31]]\n",
      "\n",
      "arr2[[1, 3, 5, 0], [2, 1, 2, 0]]\n",
      "[ 6 13 22  0]\n"
     ]
    }
   ],
   "source": [
    "arr2 = np.arange(32).reshape((8, 4)) #about reshape() later^_^\n",
    "print 'arr2:\\n%s\\n' % arr2\n",
    "\n",
    "print 'arr2[[1, 3, 5, 0], [2, 1, 2, 0]]\\n%s' %arr2[[1, 3, 5, 0], [2, 1, 2, 0]]\n",
    "# elements (1,2), (3,1), (5,2), (0,0) were selected"
   ]
  },
  {
   "cell_type": "code",
   "execution_count": 14,
   "metadata": {
    "collapsed": false
   },
   "outputs": [
    {
     "name": "stdout",
     "output_type": "stream",
     "text": [
      "arr2[[1, 3, 5, 0]][:, [2, 1, 2, 0]]\n",
      "[[ 6  5  6  4]\n",
      " [14 13 14 12]\n",
      " [22 21 22 20]\n",
      " [ 2  1  2  0]]\n"
     ]
    }
   ],
   "source": [
    "print 'arr2[[1, 3, 5, 0]][:, [2, 1, 2, 0]]\\n%s' % arr2[[1, 3, 5, 0]][:, [2, 1, 2, 0]]"
   ]
  },
  {
   "cell_type": "code",
   "execution_count": 15,
   "metadata": {
    "collapsed": false
   },
   "outputs": [
    {
     "name": "stdout",
     "output_type": "stream",
     "text": [
      "arr2[np.ix_([1, 3, 5, 0], [2, 1, 2, 0])]:\n",
      "[[ 6  5  6  4]\n",
      " [14 13 14 12]\n",
      " [22 21 22 20]\n",
      " [ 2  1  2  0]]\n"
     ]
    }
   ],
   "source": [
    "print 'arr2[np.ix_([1, 3, 5, 0], [2, 1, 2, 0])]:\\n%s' % arr2[np.ix_([1, 3, 5, 0], [2, 1, 2, 0])]\n",
    "# fancy indexng, unlike slicing, always copies the data into a new array"
   ]
  },
  {
   "cell_type": "markdown",
   "metadata": {},
   "source": [
    "\n",
    "# Transposing Arrays\n"
   ]
  },
  {
   "cell_type": "code",
   "execution_count": 16,
   "metadata": {
    "collapsed": false
   },
   "outputs": [
    {
     "data": {
      "text/plain": [
       "array([[ 0,  1,  2,  3,  4],\n",
       "       [ 5,  6,  7,  8,  9],\n",
       "       [10, 11, 12, 13, 14]])"
      ]
     },
     "execution_count": 16,
     "metadata": {},
     "output_type": "execute_result"
    }
   ],
   "source": [
    "\n",
    "arr = np.arange(15).reshape((3, 5))\n",
    "arr"
   ]
  },
  {
   "cell_type": "code",
   "execution_count": 17,
   "metadata": {
    "collapsed": false
   },
   "outputs": [
    {
     "name": "stdout",
     "output_type": "stream",
     "text": [
      "arr.T:\n",
      "[[ 0  5 10]\n",
      " [ 1  6 11]\n",
      " [ 2  7 12]\n",
      " [ 3  8 13]\n",
      " [ 4  9 14]]\n"
     ]
    }
   ],
   "source": [
    "print 'arr.T:\\n%s' % arr.T"
   ]
  },
  {
   "cell_type": "code",
   "execution_count": 18,
   "metadata": {
    "collapsed": false
   },
   "outputs": [
    {
     "data": {
      "text/plain": [
       "array([[[ 0,  1,  2,  3],\n",
       "        [ 4,  5,  6,  7]],\n",
       "\n",
       "       [[ 8,  9, 10, 11],\n",
       "        [12, 13, 14, 15]]])"
      ]
     },
     "execution_count": 18,
     "metadata": {},
     "output_type": "execute_result"
    }
   ],
   "source": [
    "arr = np.arange(16).reshape(2, 2, 4)\n",
    "arr"
   ]
  },
  {
   "cell_type": "code",
   "execution_count": 19,
   "metadata": {
    "collapsed": false
   },
   "outputs": [
    {
     "name": "stdout",
     "output_type": "stream",
     "text": [
      "arr.transpose((1, 0, 2)):\n",
      "[[[ 0  1  2  3]\n",
      "  [ 8  9 10 11]]\n",
      "\n",
      " [[ 4  5  6  7]\n",
      "  [12 13 14 15]]]\n"
     ]
    }
   ],
   "source": [
    "# for higher dimensional arrays, transpose will accept a tuple of axis numbers to permute the axes\n",
    "## TODO\n",
    "# I hope I'll understand it in the near future >____<\n",
    " \n",
    "print 'arr.transpose((1, 0, 2)):\\n%s' % arr.transpose((1, 0, 2))\n",
    "# .T is just a special case of swapping axes"
   ]
  },
  {
   "cell_type": "markdown",
   "metadata": {},
   "source": [
    "\n",
    "# Universal Functions\n",
    "\n",
    "( I found markdown cells ^_^)\n",
    "\n",
    "## Unary functions\n",
    "\n",
    "- abs, fabs (fabs - faster abs, but for non-complex numbers)\n",
    "- sqrt\n",
    "- square\n",
    "- exp\n",
    "- log, log10, og2, log1p (log1p(x) == log(1 + x)\n",
    "- sign\n",
    "- ceil, floor\n",
    "- rint (round elements to the nearest integer, preserving the dtype)\n",
    "- modf (return fractional and integral parts of array as separate array)\n",
    "- isnan\n",
    "- isfinite, isinf\n",
    "- cos, cosh, sin, sinh, tan, tanh\n",
    "- arccos, arccosh, arcsin, arcsinh, arctan, arctanh\n",
    "- logical_not (equivalent to -arr)\n",
    "\n",
    "## Binary functions\n",
    "\n",
    "- add\n",
    "- subtract\n",
    "- multiply\n",
    "- divide, floor_divide\n",
    "- power\n",
    "- maximum, fmax (fmax ignores NaN)\n",
    "- minimum, fmin \n",
    "- mof (remainder of division)\n",
    "- copysign (copy sign of values in second argument to values in first argument)\n",
    "- greater, greater_equal, less, less_equal, equal, not_equal\n",
    "- logical_and, logical_or, logical_xor\n"
   ]
  },
  {
   "cell_type": "markdown",
   "metadata": {},
   "source": [
    "\n",
    "# Data Processing Using Arrays\n"
   ]
  },
  {
   "cell_type": "code",
   "execution_count": 20,
   "metadata": {
    "collapsed": false
   },
   "outputs": [],
   "source": [
    "\n",
    "points = np.arange(-5, 5, 0.01) #1000 elements\n",
    "\n",
    "xs, ys = np.meshgrid(points, points) \n",
    "#takes two 1D arrays and produces two 2D matrices corresponding to all pairs of (x, y) in the two arrays\n",
    "\n",
    "z = np.sqrt(xs ** 2 + ys ** 2) #sqrt(x^2 + y^2)\n",
    "\n"
   ]
  },
  {
   "cell_type": "code",
   "execution_count": 21,
   "metadata": {
    "collapsed": false
   },
   "outputs": [
    {
     "name": "stdout",
     "output_type": "stream",
     "text": [
      "Populating the interactive namespace from numpy and matplotlib\n"
     ]
    },
    {
     "data": {
      "text/plain": [
       "<matplotlib.text.Text at 0x10a364bd0>"
      ]
     },
     "execution_count": 21,
     "metadata": {},
     "output_type": "execute_result"
    },
    {
     "data": {
      "image/png": "[encoded data removed]",
      "text/plain": [
       "<matplotlib.figure.Figure at 0x1079fb2d0>"
      ]
     },
     "metadata": {},
     "output_type": "display_data"
    }
   ],
   "source": [
    "import matplotlib.pyplot as plt\n",
    "%pylab inline\n",
    "\n",
    "plt.imshow(z, cmap=plt.cm.gray)\n",
    "plt.title(\"Image plot of $\\sqrt{x^2 + y^2}$ for a grid of values\")\n"
   ]
  },
  {
   "cell_type": "code",
   "execution_count": null,
   "metadata": {
    "collapsed": true
   },
   "outputs": [],
   "source": []
  }
 ],
 "metadata": {
  "kernelspec": {
   "display_name": "Python 2",
   "language": "python",
   "name": "python2"
  },
  "language_info": {
   "codemirror_mode": {
    "name": "ipython",
    "version": 2
   },
   "file_extension": ".py",
   "mimetype": "text/x-python",
   "name": "python",
   "nbconvert_exporter": "python",
   "pygments_lexer": "ipython2",
   "version": "2.7.10"
  }
 },
 "nbformat": 4,
 "nbformat_minor": 0
}
