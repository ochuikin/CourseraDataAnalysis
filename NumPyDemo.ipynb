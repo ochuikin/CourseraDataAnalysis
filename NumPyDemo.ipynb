{
 "cells": [
  {
   "cell_type": "code",
   "execution_count": null,
   "metadata": {
    "collapsed": false
   },
   "outputs": [],
   "source": [
    "#============================\n",
    "# NumPy notes\n",
    "# Created by Babichev Oleg \n",
    "# using \"Python for Data Analysis\"(Wes McKinney)\n",
    "# 30.01.2016\n",
    "#============================\n",
    "\n",
    "import numpy as np\n",
    "\n",
    "\n",
    "data = [[1, 2, 3], \n",
    "        [4, 5, 6], \n",
    "        [7, 8, 9]]\n",
    "   \n",
    "arr = np.array(data)\n",
    "arr"
   ]
  },
  {
   "cell_type": "code",
   "execution_count": null,
   "metadata": {
    "collapsed": false
   },
   "outputs": [],
   "source": [
    "print 'arr.ndim:  %s' % arr.ndim  #number of dimensions\n",
    "print 'arr.shape: %s' % (arr.shape,) #size of each dimensional\n",
    "print 'arr.dtype: %s' % arr.dtype #data type of array"
   ]
  },
  {
   "cell_type": "code",
   "execution_count": null,
   "metadata": {
    "collapsed": false
   },
   "outputs": [],
   "source": [
    "#============================\n",
    "# Methods for creating ndarray\n",
    "#============================\n",
    "\n",
    "#List of methods:\n",
    "#  ones, ones_like, zeros, zeros_like,\n",
    "#  empty, empty_like, eye, identity\n",
    "#  arange\n",
    "\n",
    "arr = np.ones((3, 3))    #produces an array of all 1's\n",
    "print 'np.ones()'\n",
    "print arr\n",
    "\n",
    "arr = np.ones_like(data) #takes another array and produces ones array with the same shape and dtype\n",
    "print 'np.ones_like()'\n",
    "print arr\n",
    "\n",
    "arr = np.zeros((3, 3))\n",
    "print 'np.zeros()'\n",
    "print arr\n",
    "\n",
    "arr = np.zeros_like(data)\n",
    "print 'np.zeros_like()'\n",
    "print arr\n",
    "\n",
    "arr = np.empty((4, 3)) #allocates new memory, but doesn't populate with any values like ones and zeros\n",
    "print 'np.empty()'      #it sometimes returns really trash^_^\n",
    "print arr\n",
    "\n",
    "arr = np.empty_like(data)\n",
    "print 'np.empty_like()'\n",
    "print arr\n",
    "\n",
    "arr = np.eye(3) #creates square NxN matrix with 1's on diagonale\n",
    "print 'np.eye()'\n",
    "print arr\n",
    "\n",
    "arr = np.identity(3) #looks like np.eye()\n",
    "print 'np.identity()'\n",
    "print arr\n",
    "\n",
    "arr = np.arange(1, 20, 3) #looks like standart range() function, but returns ndarray\n",
    "print 'np.arange()'\n",
    "print arr"
   ]
  },
  {
   "cell_type": "code",
   "execution_count": null,
   "metadata": {
    "collapsed": false
   },
   "outputs": [],
   "source": [
    "#============================\n",
    "# Data Types for ndarrays\n",
    "#============================ \n",
    "\n",
    "#List of types:\n",
    "#  int8, uint8, int16, uint16, int32, uint32, int64, uint64\n",
    "#  float16, float32, float64, float128\n",
    "#  complex64, complex128, complex256\n",
    "#  bool, object, string_, unicode\n",
    "\n",
    "#List of methods:\n",
    "#  ndarray.astype\n",
    "\n",
    "arr3 = np.array(data)\n",
    "print 'arr3.dtype: %s' % arr3.dtype\n",
    "\n",
    "arr4 = arr3.astype(np.float64)\n",
    "print 'arr4.dtype: %s' % arr4.dtype\n",
    "\n",
    "arr5 = arr4.astype(arr3.dtype) #you can use another array's dtype attribute\n",
    "print 'arr5.dtype: %s' % arr5.dtype"
   ]
  },
  {
   "cell_type": "code",
   "execution_count": null,
   "metadata": {
    "collapsed": false
   },
   "outputs": [],
   "source": [
    "#==========================================\n",
    "# Operations between Arrays and Scalars\n",
    "#==========================================\n",
    "\n",
    "#Operations:\n",
    "#  +,-,*,/,**\n",
    "\n",
    "#operations between differently sized arrays is called 'broadcastion' and will be later ^_^\n",
    "\n",
    "arr6 = np.array(data, dtype=np.float)\n",
    "print 'array:'\n",
    "print arr6\n",
    "\n",
    "print '+:'\n",
    "print arr6 + arr6\n",
    "\n",
    "print '*:'\n",
    "print arr6 * arr6\n",
    "\n",
    "print '-:'\n",
    "print arr6 - arr6\n",
    "\n",
    "print '/:'\n",
    "print arr6 / arr6\n",
    "\n",
    "print '1 / array:'\n",
    "print 1 /  arr6\n",
    "\n",
    "print 'array ** 0.5:'\n",
    "print arr6 ** 0.5"
   ]
  },
  {
   "cell_type": "code",
   "execution_count": null,
   "metadata": {
    "collapsed": false
   },
   "outputs": [],
   "source": [
    "#==========================================\n",
    "# Basic indexing and Slicing\n",
    "#==========================================\n",
    "\n",
    "arr = np.arange(10)\n",
    "print 'arr: %s' % arr\n",
    "\n",
    "print 'arr[5]: %s' % arr[5]\n",
    "\n",
    "print 'arr[5: 8]: %s' % (arr[5:8])\n",
    "\n",
    "arr[5:8] = 20\n",
    "print 'arr[5:8] = 20: %s' % arr\n"
   ]
  },
  {
   "cell_type": "code",
   "execution_count": null,
   "metadata": {
    "collapsed": false
   },
   "outputs": [],
   "source": [
    "arr = np.arange(10)\n",
    "print 'arr: %s' % arr\n",
    "\n",
    "arr_slice = arr[5:8]\n",
    "print 'arr[5:8]: %s' % arr_slice\n",
    "\n",
    "arr_slice[1] = 20\n",
    "print 'arr_slice[1] = 20: %s' % arr_slice\n",
    "\n",
    "print 'arr: %s' % arr #slices is only views on original array"
   ]
  },
  {
   "cell_type": "code",
   "execution_count": null,
   "metadata": {
    "collapsed": false
   },
   "outputs": [],
   "source": [
    "arr = np.array(data)\n",
    "print 'arr:\\n %s' % arr\n",
    "\n",
    "print 'arr[0][2]: %s' % arr[0][2]\n",
    "\n",
    "print 'arr[0, 2]: %s - the same' % arr[0, 2]"
   ]
  },
  {
   "cell_type": "code",
   "execution_count": null,
   "metadata": {
    "collapsed": false
   },
   "outputs": [],
   "source": [
    "#==========================================\n",
    "# Boolean indexing\n",
    "#==========================================\n",
    "\n",
    "from numpy.random import randn\n",
    "\n",
    "names = np.array(['Bob', 'Job', 'Hop', 'Drop', 'Job'])\n",
    "print 'names:\\n %s\\n' % names\n",
    "\n",
    "data = randn(5, 4)\n",
    "print 'data:\\n %s\\n' % data\n",
    "\n",
    "print \"names == 'Job': %s\\n\" % (names == 'Job',)\n",
    "\n",
    "#The boolean array must be of the same length as the axis it's indexing\n",
    "print \"data[names == 'Job']:\"\n",
    "data[names == 'Job']"
   ]
  },
  {
   "cell_type": "code",
   "execution_count": null,
   "metadata": {
    "collapsed": false
   },
   "outputs": [],
   "source": [
    "print \"data[names == 'Job' | names == 'Drop']:\"\n",
    "data[(names == 'Job') | (names == 'Drop')]"
   ]
  },
  {
   "cell_type": "code",
   "execution_count": null,
   "metadata": {
    "collapsed": false
   },
   "outputs": [],
   "source": [
    "print 'data[data < 0] = 0'\n",
    "data[data < 0] = 0\n",
    "data"
   ]
  },
  {
   "cell_type": "code",
   "execution_count": null,
   "metadata": {
    "collapsed": false
   },
   "outputs": [],
   "source": [
    "#==========================================\n",
    "# Fancy indexing\n",
    "#==========================================\n",
    "\n",
    "arr = np.empty((8, 4))\n",
    "\n",
    "for i in range(8):\n",
    "    arr[i] = i\n",
    "    \n",
    "print \"arr:\\n %s\\n\" % arr\n",
    "\n",
    "# To select out a subset of the rows in a particular order, \n",
    "# you ca simply pass a list or ndarray of integers specifying the desired order\n",
    "\n",
    "print 'arr[[3, 7, 2, 4]]:\\n%s' % arr[[3, 7, 2, 4]]"
   ]
  },
  {
   "cell_type": "code",
   "execution_count": null,
   "metadata": {
    "collapsed": false
   },
   "outputs": [],
   "source": [
    "arr2 = np.arange(32).reshape((8, 4)) #about reshape() later^_^\n",
    "print 'arr2:\\n%s\\n' % arr2\n",
    "\n",
    "print 'arr2[[1, 3, 5, 0], [2, 1, 2, 0]]\\n%s' %arr2[[1, 3, 5, 0], [2, 1, 2, 0]]\n",
    "# elements (1,2), (3,1), (5,2), (0,0) were selected"
   ]
  },
  {
   "cell_type": "code",
   "execution_count": null,
   "metadata": {
    "collapsed": false
   },
   "outputs": [],
   "source": [
    "print 'arr2[[1, 3, 5, 0]][:, [2, 1, 2, 0]]\\n%s' % arr2[[1, 3, 5, 0]][:, [2, 1, 2, 0]]"
   ]
  },
  {
   "cell_type": "code",
   "execution_count": null,
   "metadata": {
    "collapsed": false
   },
   "outputs": [],
   "source": [
    "print 'arr2[np.ix_([1, 3, 5, 0], [2, 1, 2, 0])]:\\n%s' % arr2[np.ix_([1, 3, 5, 0], [2, 1, 2, 0])]\n",
    "# fancy indexng, unlike slicing, always copies the data into a new array"
   ]
  },
  {
   "cell_type": "code",
   "execution_count": null,
   "metadata": {
    "collapsed": false
   },
   "outputs": [],
   "source": [
    "#==========================================\n",
    "# Transposing Arrays\n",
    "#==========================================\n",
    "\n",
    "arr = np.arange(15).reshape((3, 5))\n",
    "arr"
   ]
  },
  {
   "cell_type": "code",
   "execution_count": null,
   "metadata": {
    "collapsed": false
   },
   "outputs": [],
   "source": [
    "print 'arr.T:\\n%s' % arr.T"
   ]
  },
  {
   "cell_type": "code",
   "execution_count": null,
   "metadata": {
    "collapsed": false
   },
   "outputs": [],
   "source": [
    "arr = np.arange(16).reshape(2, 2, 4)\n",
    "arr"
   ]
  },
  {
   "cell_type": "code",
   "execution_count": null,
   "metadata": {
    "collapsed": false
   },
   "outputs": [],
   "source": [
    "# for higher dimensional arrays, transpose will accept a tuple of axis numbers to permute the axes\n",
    "## TODO\n",
    "# I hope I'll understand it in the near future >____<\n",
    " \n",
    "print 'arr.transpose((1, 0, 2)):\\n%s' % arr.transpose((1, 0, 2))\n",
    "# .T is just a special case of swapping axes"
   ]
  },
  {
   "cell_type": "markdown",
   "metadata": {},
   "source": [
    "\n",
    "# Universal Functions\n",
    "\n",
    "( I found markdown cells ^_^)\n",
    "\n",
    "## Unary functions\n",
    "\n",
    "- abs, fabs (fabs - faster abs, but for non-complex numbers)\n",
    "- sqrt\n",
    "- square\n",
    "- exp\n",
    "- log, log10, og2, log1p (log1p(x) == log(1 + x)\n",
    "- sign\n",
    "- ceil, floor\n",
    "- rint (round elements to the nearest integer, preserving the dtype)\n",
    "- modf (return fractional and integral parts of array as separate array)\n",
    "- isnan\n",
    "- isfinite, isinf\n",
    "- cos, cosh, sin, sinh, tan, tanh\n",
    "- arccos, arccosh, arcsin, arcsinh, arctan, arctanh\n",
    "- logical_not (equivalent to -arr)\n",
    "\n",
    "## Binary functions\n",
    "\n",
    "- add\n",
    "- subtract\n",
    "- multiply\n",
    "- divide, floor_divide\n",
    "- power\n",
    "- maximum, fmax (fmax ignores NaN)\n",
    "- minimum, fmin \n",
    "- mof (remainder of division)\n",
    "- copysign (copy sign of values in second argument to values in first argument)\n",
    "- greater, greater_equal, less, less_equal, equal, not_equal\n",
    "- logical_and, logical_or, logical_xor\n"
   ]
  },
  {
   "cell_type": "code",
   "execution_count": null,
   "metadata": {
    "collapsed": false
   },
   "outputs": [],
   "source": [
    "#==========================================\n",
    "# Data Processing Using Arrays\n",
    "#==========================================\n",
    "\n",
    "points = np.arange(-5, 5, 0.01) #1000 elements\n",
    "\n",
    "xs, ys = np.meshgrid(points, points) \n",
    "#takes two 1D arrays and produces two 2D matrices corresponding to all pairs of (x, y) in the two arrays\n",
    "\n",
    "z = np.sqrt(xs ** 2 + ys ** 2) #sqrt(x^2 + y^2)\n",
    "\n"
   ]
  },
  {
   "cell_type": "code",
   "execution_count": null,
   "metadata": {
    "collapsed": false
   },
   "outputs": [],
   "source": [
    "import matplotlib.pyplot as plt\n",
    "%pylab inline\n",
    "\n",
    "plt.imshow(z, cmap=plt.cm.gray)\n",
    "plt.title(\"Image plot of $\\sqrt{x^2 + y^2}$ for a grid of values\")\n"
   ]
  },
  {
   "cell_type": "code",
   "execution_count": null,
   "metadata": {
    "collapsed": true
   },
   "outputs": [],
   "source": []
  },
  {
   "cell_type": "code",
   "execution_count": null,
   "metadata": {
    "collapsed": true
   },
   "outputs": [],
   "source": []
  }
 ],
 "metadata": {
  "kernelspec": {
   "display_name": "Python 2",
   "language": "python",
   "name": "python2"
  },
  "language_info": {
   "codemirror_mode": {
    "name": "ipython",
    "version": 2
   },
   "file_extension": ".py",
   "mimetype": "text/x-python",
   "name": "python",
   "nbconvert_exporter": "python",
   "pygments_lexer": "ipython2",
   "version": "2.7.10"
  }
 },
 "nbformat": 4,
 "nbformat_minor": 0
}
